{
 "cells": [
  {
   "cell_type": "code",
   "execution_count": null,
   "metadata": {},
   "outputs": [],
   "source": [
    "from expansion_tools.blob_expansion_tools_jetset import *\n",
    "from processing.fix_numba_issue import load_model\n",
    "\n",
    "from jetset.data_loader import Data,ObsData\n",
    "from jetset.plot_sedfit import PlotSED\n"
   ]
  },
  {
   "attachments": {},
   "cell_type": "markdown",
   "metadata": {},
   "source": [
    "## Notebook to run the simulations with only adiabatic cooling, necessary for the analysis in Section 5.1"
   ]
  },
  {
   "cell_type": "code",
   "execution_count": 2,
   "metadata": {},
   "outputs": [],
   "source": [
    "sed_data = ObsData(data_table=Data.from_file('sed_mrk421_mjd_56302.ecsv'))\n",
    "fit_model=load_model()"
   ]
  },
  {
   "cell_type": "code",
   "execution_count": 3,
   "metadata": {},
   "outputs": [],
   "source": [
    "rest_frame='obs'\n",
    "delta_t_out=1E3\n",
    "t_exp=0"
   ]
  },
  {
   "attachments": {},
   "cell_type": "markdown",
   "metadata": {},
   "source": [
    "## loading flaring state simulation"
   ]
  },
  {
   "cell_type": "code",
   "execution_count": 4,
   "metadata": {},
   "outputs": [],
   "source": [
    "from jetset.jet_timedep import JetTimeEvol\n",
    "temp_ev_acc_flare=JetTimeEvol.load_model('temp_ev_sim_flare/temp_ev_acc_flare.pkl')\n",
    "R0=temp_ev_acc_flare.rad_region.jet.parameters.R.val\n",
    "\n",
    "def delta_t_est(t_exp,R0,beta_exp):\n",
    "    return t_exp+R0/(beta_exp*3E10)\n",
    "\n",
    "def t_dec_est(R0,a,beta_exp):\n",
    "    return ((R0+beta_exp*3E10)*np.power(beta_exp*3E10,a))\n",
    "\n",
    "beta_exp=np.logspace(-3,np.log10(0.3),10)\n",
    "\n"
   ]
  },
  {
   "attachments": {},
   "cell_type": "markdown",
   "metadata": {},
   "source": [
    "Set `run=False` if you have already run the simulations, and you want only to regenerate lcs or SEDs"
   ]
  },
  {
   "cell_type": "code",
   "execution_count": 5,
   "metadata": {},
   "outputs": [
    {
     "name": "stdout",
     "output_type": "stream",
     "text": [
      "ID 0\n",
      "beta_exp 0.001000\n",
      "delta_t  est. 1.929012e+03 (d)\n",
      "t_dec  est. 1.929012e+03 (d)\n",
      "delta_t  est. 1.666667e+08 (s)\n",
      "t_dec  est. 1.666667e+08 (s)\n",
      "duration 1.833333e+09\n",
      "T_SIZE 1833333\n",
      "NUM_SET 5000\n",
      "==> par: z_cosm from model: jet_leptonicacc_region linked to same parameter in model jet_leptonic\n",
      "temporal evolution running\n"
     ]
    },
    {
     "data": {
      "application/vnd.jupyter.widget-view+json": {
       "model_id": "451cabf3373a4e26823a820215d434f3",
       "version_major": 2,
       "version_minor": 0
      },
      "text/plain": [
       "  0%|          | 0/1833333 [00:00<?, ?it/s]"
      ]
     },
     "metadata": {},
     "output_type": "display_data"
    },
    {
     "name": "stdout",
     "output_type": "stream",
     "text": [
      "temporal evolution completed\n",
      "caching SED for each saved distribution: start\n"
     ]
    },
    {
     "data": {
      "application/vnd.jupyter.widget-view+json": {
       "model_id": "411e7f97d1cd4fb3b70231bbb0201235",
       "version_major": 2,
       "version_minor": 0
      },
      "text/plain": [
       "  0%|          | 0/5000 [00:00<?, ?it/s]"
      ]
     },
     "metadata": {},
     "output_type": "display_data"
    },
    {
     "name": "stdout",
     "output_type": "stream",
     "text": [
      "caching SED for each saved distribution: done\n"
     ]
    },
    {
     "ename": "FileNotFoundError",
     "evalue": "[Errno 2] No such file or directory: 'temp_ev_sim_exp_change_beta_no_synch_cooling/lc_obs_beta_exp=0.001.pkl'",
     "output_type": "error",
     "traceback": [
      "\u001b[0;31m---------------------------------------------------------------------------\u001b[0m",
      "\u001b[0;31mFileNotFoundError\u001b[0m                         Traceback (most recent call last)",
      "\u001b[0;32m<ipython-input-5-34a3328a1b3a>\u001b[0m in \u001b[0;36m<module>\u001b[0;34m\u001b[0m\n\u001b[1;32m     15\u001b[0m     \u001b[0mprint\u001b[0m\u001b[0;34m(\u001b[0m\u001b[0;34m'T_SIZE %d'\u001b[0m\u001b[0;34m%\u001b[0m\u001b[0mT_SIZE\u001b[0m\u001b[0;34m)\u001b[0m\u001b[0;34m\u001b[0m\u001b[0;34m\u001b[0m\u001b[0m\n\u001b[1;32m     16\u001b[0m     \u001b[0mprint\u001b[0m\u001b[0;34m(\u001b[0m\u001b[0;34m'NUM_SET %d'\u001b[0m\u001b[0;34m%\u001b[0m\u001b[0mNUM_SET\u001b[0m\u001b[0;34m)\u001b[0m\u001b[0;34m\u001b[0m\u001b[0;34m\u001b[0m\u001b[0m\n\u001b[0;32m---> 17\u001b[0;31m     run_adiabatic_exp(sed_data,\n\u001b[0m\u001b[1;32m     18\u001b[0m                       \u001b[0mfit_model\u001b[0m\u001b[0;34m,\u001b[0m\u001b[0;34m\u001b[0m\u001b[0;34m\u001b[0m\u001b[0m\n\u001b[1;32m     19\u001b[0m                       \u001b[0;34m'temp_ev_sim_exp_change_beta_no_synch_cooling'\u001b[0m\u001b[0;34m,\u001b[0m\u001b[0;34m\u001b[0m\u001b[0;34m\u001b[0m\u001b[0m\n",
      "\u001b[0;32m~/astro/JetSeT/JetSet_AdbExp_SSC_radio_gamma_delay/AdbExp_TempEv_paper_git_repo/adiabatic_exp_radio_gamma_delay/jetset_sim_and_analysis/expansion_tools/blob_expansion_tools_jetset.py\u001b[0m in \u001b[0;36mrun_adiabatic_exp\u001b[0;34m(sed_data, fit_model, root_dir, temp_ev_acc_flare, flare_duration, duration, T_esc_rad, T_SIZE, NUM_SET, beta_exp, t_exp, rest_frame, expansion, run, average, analysis_dir, delta_t_out, only_injection, do_injection, plot_fit_model, plot_fit_distr, eval_cross_time, no_cooling, synch_cooling_off, cache_SEDs_acc, cache_SEDs_rad, m_B)\u001b[0m\n\u001b[1;32m    349\u001b[0m     \u001b[0;32mif\u001b[0m \u001b[0manalysis_dir\u001b[0m \u001b[0;32mis\u001b[0m \u001b[0;32mNone\u001b[0m\u001b[0;34m:\u001b[0m\u001b[0;34m\u001b[0m\u001b[0;34m\u001b[0m\u001b[0m\n\u001b[1;32m    350\u001b[0m         \u001b[0manalysis_dir\u001b[0m \u001b[0;34m=\u001b[0m \u001b[0mroot_dir\u001b[0m\u001b[0;34m\u001b[0m\u001b[0;34m\u001b[0m\u001b[0m\n\u001b[0;32m--> 351\u001b[0;31m     \u001b[0;32mwith\u001b[0m \u001b[0mopen\u001b[0m\u001b[0;34m(\u001b[0m\u001b[0;34m'%s/lc_%s_beta_exp=%3.3f.pkl'\u001b[0m \u001b[0;34m%\u001b[0m \u001b[0;34m(\u001b[0m\u001b[0manalysis_dir\u001b[0m\u001b[0;34m,\u001b[0m \u001b[0mrest_frame\u001b[0m\u001b[0;34m,\u001b[0m \u001b[0mbeta_exp\u001b[0m\u001b[0;34m)\u001b[0m\u001b[0;34m,\u001b[0m \u001b[0;34m'wb'\u001b[0m\u001b[0;34m)\u001b[0m \u001b[0;32mas\u001b[0m \u001b[0mf\u001b[0m\u001b[0;34m:\u001b[0m\u001b[0;34m\u001b[0m\u001b[0;34m\u001b[0m\u001b[0m\n\u001b[0m\u001b[1;32m    352\u001b[0m         \u001b[0mpickle\u001b[0m\u001b[0;34m.\u001b[0m\u001b[0mdump\u001b[0m\u001b[0;34m(\u001b[0m\u001b[0mlcs_v_exp\u001b[0m\u001b[0;34m,\u001b[0m \u001b[0mf\u001b[0m\u001b[0;34m,\u001b[0m \u001b[0mpickle\u001b[0m\u001b[0;34m.\u001b[0m\u001b[0mHIGHEST_PROTOCOL\u001b[0m\u001b[0;34m)\u001b[0m\u001b[0;34m\u001b[0m\u001b[0;34m\u001b[0m\u001b[0m\n\u001b[1;32m    353\u001b[0m \u001b[0;34m\u001b[0m\u001b[0m\n",
      "\u001b[0;31mFileNotFoundError\u001b[0m: [Errno 2] No such file or directory: 'temp_ev_sim_exp_change_beta_no_synch_cooling/lc_obs_beta_exp=0.001.pkl'"
     ]
    }
   ],
   "source": [
    "run=True\n",
    "for ID,v in enumerate(beta_exp):\n",
    "    duration=delta_t_est(t_exp,R0,v)+10*t_dec_est(R0,-1,v)\n",
    "    T_SIZE=np.int(duration/1000)\n",
    "    NUM_SET=np.int(T_SIZE)\n",
    "    NUM_SET=min(5000,NUM_SET)\n",
    "    NUM_SET=max(1000,NUM_SET)\n",
    "    print('ID',ID)\n",
    "    print('beta_exp %f'%v)\n",
    "    print('delta_t  est. %e (d)'%(delta_t_est(t_exp,R0,v)/86400))\n",
    "    print('t_dec  est. %e (d)'%(t_dec_est(R0,-1,v)/86400))\n",
    "    print('delta_t  est. %e (s)'%(delta_t_est(t_exp,R0,v)))\n",
    "    print('t_dec  est. %e (s)'%(t_dec_est(R0,-1,v)))\n",
    "    print('duration %e'%duration)\n",
    "    print('T_SIZE %d'%T_SIZE)\n",
    "    print('NUM_SET %d'%NUM_SET)\n",
    "    run_adiabatic_exp(sed_data,\n",
    "                      fit_model,\n",
    "                      'temp_ev_sim_exp_change_beta_no_synch_cooling',\n",
    "                      temp_ev_acc_flare,\n",
    "                      flare_duration=0,\n",
    "                      duration=duration,\n",
    "                      delta_t_out=delta_t_out,\n",
    "                      T_esc_rad=1E60,\n",
    "                      rest_frame=rest_frame,\n",
    "                      T_SIZE=T_SIZE,\n",
    "                      NUM_SET=NUM_SET,\n",
    "                      run=run,\n",
    "                      beta_exp=v,\n",
    "                      t_exp=t_exp,\n",
    "                      synch_cooling_off=True,\n",
    "                      cache_SEDs_rad=True,\n",
    "                      m_B=1)\n",
    "    \n",
    "   \n",
    "    print('----------------------------------------------')"
   ]
  },
  {
   "cell_type": "code",
   "execution_count": 6,
   "metadata": {},
   "outputs": [
    {
     "data": {
      "image/png": "[encoded data removed]",
      "text/plain": [
       "<Figure size 864x432 with 2 Axes>"
      ]
     },
     "metadata": {
      "needs_background": "light"
     },
     "output_type": "display_data"
    },
    {
     "data": {
      "image/png": "[encoded data removed]",
      "text/plain": [
       "<Figure size 864x432 with 2 Axes>"
      ]
     },
     "metadata": {
      "needs_background": "light"
     },
     "output_type": "display_data"
    }
   ],
   "source": [
    "from expansion_tools.delay_analysis import plot_lcs\n",
    "\n",
    "d=plot_lcs(exp_lcs='temp_ev_sim_exp_change_beta_no_synch_cooling/lc_obs_beta_exp=0.001.pkl',lcs_names=['lg_obs','lr_obs_15GHz'],flare_lcs=None)\n",
    "f=plot_lcs(exp_lcs='temp_ev_sim_exp_change_beta/lc_obs_beta_exp=0.001.pkl',lcs_names=['lg_obs','lr_obs_15GHz'],flare_lcs=None)"
   ]
  },
  {
   "cell_type": "code",
   "execution_count": 8,
   "metadata": {},
   "outputs": [
    {
     "name": "stdout",
     "output_type": "stream",
     "text": [
      "ID 0\n",
      "beta_exp 0.100000\n",
      "delta_t  est. 1.929012e+01 (d)\n",
      "t_dec  est. 1.929014e+01 (d)\n",
      "delta_t  est. 1.666667e+06 (s)\n",
      "t_dec  est. 1.666668e+06 (s)\n",
      "duration 1.833334e+07\n",
      "T_SIZE 18333\n",
      "NUM_SET 5000\n",
      "==> par: z_cosm from model: jet_leptonicacc_region linked to same parameter in model jet_leptonic\n",
      "temporal evolution running\n"
     ]
    },
    {
     "data": {
      "application/vnd.jupyter.widget-view+json": {
       "model_id": "76ba6c07766d4efbb4adcbc2e25fd8b6",
       "version_major": 2,
       "version_minor": 0
      },
      "text/plain": [
       "  0%|          | 0/18333 [00:00<?, ?it/s]"
      ]
     },
     "metadata": {},
     "output_type": "display_data"
    },
    {
     "name": "stdout",
     "output_type": "stream",
     "text": [
      "temporal evolution completed\n",
      "caching SED for each saved distribution: start\n"
     ]
    },
    {
     "data": {
      "application/vnd.jupyter.widget-view+json": {
       "model_id": "cf5e3e1f105141d7ae6c5bd337131457",
       "version_major": 2,
       "version_minor": 0
      },
      "text/plain": [
       "  0%|          | 0/5000 [00:00<?, ?it/s]"
      ]
     },
     "metadata": {},
     "output_type": "display_data"
    },
    {
     "name": "stdout",
     "output_type": "stream",
     "text": [
      "caching SED for each saved distribution: done\n",
      "1.0 1.0 18333343.333333332\n",
      "t1=000 t2=000, t2_R=0.000e+00, R2=5.00000e+15 t/t_ref=0.000 t/t_exp=0.000 t/duration=0.000 1.00000e+00\n",
      "t1=000 t2=555, t2_R=2.039e+06, R2=1.11129e+16 t/t_ref=2037038.037 t/t_exp=2037038.037 t/duration=0.111 1.00198e+00\n",
      "t1=000 t2=1111, t2_R=4.078e+06, R2=1.72258e+16 t/t_ref=4074076.074 t/t_exp=4074076.074 t/duration=0.222 1.00255e+00\n",
      "t1=000 t2=1666, t2_R=6.113e+06, R2=2.33267e+16 t/t_ref=6111114.111 t/t_exp=6111114.111 t/duration=0.333 1.00268e+00\n",
      "t1=000 t2=2222, t2_R=8.151e+06, R2=2.94365e+16 t/t_ref=8148152.148 t/t_exp=8148152.148 t/duration=0.445 1.00151e+00\n",
      "t1=000 t2=2777, t2_R=1.019e+07, R2=3.55374e+16 t/t_ref=10185190.185 t/t_exp=10185190.185 t/duration=0.556 9.94654e-01\n",
      "t1=000 t2=3333, t2_R=1.223e+07, R2=4.16503e+16 t/t_ref=12222228.222 t/t_exp=12222228.222 t/duration=0.667 9.74912e-01\n",
      "t1=000 t2=3888, t2_R=1.426e+07, R2=4.77512e+16 t/t_ref=14259266.259 t/t_exp=14259266.259 t/duration=0.778 9.41392e-01\n",
      "t1=000 t2=4444, t2_R=1.630e+07, R2=5.38641e+16 t/t_ref=16296304.296 t/t_exp=16296304.296 t/duration=0.889 9.00675e-01\n",
      "t1=000 t2=4999, t2_R=1.833e+07, R2=5.99590e+16 t/t_ref=18333342.333 t/t_exp=18333342.333 t/duration=1.000 8.59773e-01\n",
      "----------------------------------------------\n"
     ]
    }
   ],
   "source": [
    "beta_exp=[0.1]\n",
    "for ID,v in enumerate(beta_exp):\n",
    "    duration=delta_t_est(t_exp,R0,v)+10*t_dec_est(R0,-1,v)\n",
    "    T_SIZE=np.int(duration/1000)\n",
    "    NUM_SET=np.int(T_SIZE)\n",
    "    NUM_SET=min(5000,NUM_SET)\n",
    "    NUM_SET=max(1000,NUM_SET)\n",
    "    print('ID',ID)\n",
    "    print('beta_exp %f'%v)\n",
    "    print('delta_t  est. %e (d)'%(delta_t_est(t_exp,R0,v)/86400))\n",
    "    print('t_dec  est. %e (d)'%(t_dec_est(R0,-1,v)/86400))\n",
    "    print('delta_t  est. %e (s)'%(delta_t_est(t_exp,R0,v)))\n",
    "    print('t_dec  est. %e (s)'%(t_dec_est(R0,-1,v)))\n",
    "    print('duration %e'%duration)\n",
    "    print('T_SIZE %d'%T_SIZE)\n",
    "    print('NUM_SET %d'%NUM_SET)\n",
    "    run_adiabatic_exp(sed_data,\n",
    "                      fit_model,\n",
    "                      'temp_ev_sim_exp_beta_0.1_no_sync_cooling',\n",
    "                      temp_ev_acc_flare,\n",
    "                      flare_duration=0,\n",
    "                      duration=duration,\n",
    "                      delta_t_out=delta_t_out,\n",
    "                      T_esc_rad=1E60,\n",
    "                      rest_frame=rest_frame,\n",
    "                      T_SIZE=T_SIZE,\n",
    "                      NUM_SET=NUM_SET,\n",
    "                      run=run,\n",
    "                      beta_exp=v,\n",
    "                      t_exp=t_exp,\n",
    "                      synch_cooling_off=True,\n",
    "                      cache_SEDs_rad=True,\n",
    "                      m_B=1)\n",
    "    \n",
    "    \n",
    "   \n",
    "    print('----------------------------------------------')    "
   ]
  },
  {
   "cell_type": "code",
   "execution_count": null,
   "metadata": {},
   "outputs": [],
   "source": []
  }
 ],
 "metadata": {
  "interpreter": {
   "hash": "8270343c67bbf83425ea85c800ec82ffd57e3aaad435765e5bb7293c6efe66b4"
  },
  "kernelspec": {
   "display_name": "Python 3",
   "language": "python",
   "name": "python3"
  },
  "language_info": {
   "codemirror_mode": {
    "name": "ipython",
    "version": 3
   },
   "file_extension": ".py",
   "mimetype": "text/x-python",
   "name": "python",
   "nbconvert_exporter": "python",
   "pygments_lexer": "ipython3",
   "version": "3.9.13"
  }
 },
 "nbformat": 4,
 "nbformat_minor": 4
}
