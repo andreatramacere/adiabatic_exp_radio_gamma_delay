{
 "cells": [
  {
   "cell_type": "code",
   "execution_count": null,
   "metadata": {},
   "outputs": [],
   "source": [
    "from expansion_tools.blob_expansion_tools_jetset import *\n",
    "from processing.fix_numba_issue import load_model\n",
    "\n",
    "from jetset.data_loader import Data,ObsData\n",
    "from jetset.plot_sedfit import PlotSED\n"
   ]
  },
  {
   "cell_type": "markdown",
   "metadata": {},
   "source": [
    "## Notebook to run the simulations with only adiabatic cooling, necessary for the analysis in Section 5.1"
   ]
  },
  {
   "cell_type": "code",
   "execution_count": 2,
   "metadata": {},
   "outputs": [],
   "source": [
    "sed_data = ObsData(data_table=Data.from_file('sed_mrk421_mjd_56302.ecsv'))\n",
    "fit_model=load_model()"
   ]
  },
  {
   "cell_type": "code",
   "execution_count": 3,
   "metadata": {},
   "outputs": [],
   "source": [
    "rest_frame='obs'\n",
    "delta_t_out=1E3\n",
    "t_exp=0"
   ]
  },
  {
   "cell_type": "markdown",
   "metadata": {},
   "source": [
    "## loading flaring state simulation"
   ]
  },
  {
   "cell_type": "code",
   "execution_count": 4,
   "metadata": {},
   "outputs": [],
   "source": [
    "from jetset.jet_timedep import JetTimeEvol\n",
    "temp_ev_acc_flare=JetTimeEvol.load_model('temp_ev_sim_flare/temp_ev_acc_flare.pkl')\n",
    "R0=temp_ev_acc_flare.rad_region.jet.parameters.R.val\n",
    "\n",
    "def delta_t_est(t_exp,R0,beta_exp):\n",
    "    return t_exp+R0/(beta_exp*3E10)\n",
    "\n",
    "def t_dec_est(R0,a,beta_exp):\n",
    "    return ((R0+beta_exp*3E10)*np.power(beta_exp*3E10,a))\n",
    "\n",
    "beta_exp=np.logspace(-3,np.log10(0.3),10)\n",
    "\n"
   ]
  },
  {
   "cell_type": "markdown",
   "metadata": {},
   "source": [
    "Set `run=False` if you have already run the simulations, and you want only to regenerate lcs or SEDs"
   ]
  },
  {
   "cell_type": "code",
   "execution_count": 5,
   "metadata": {},
   "outputs": [
    {
     "name": "stdout",
     "output_type": "stream",
     "text": [
      "ID 0\n",
      "beta_exp 0.001000\n",
      "delta_t  est. 1.929012e+03 (d)\n",
      "t_dec  est. 1.929012e+03 (d)\n",
      "delta_t  est. 1.666667e+08 (s)\n",
      "t_dec  est. 1.666667e+08 (s)\n",
      "duration 1.833333e+09\n",
      "T_SIZE 1833333\n",
      "NUM_SET 5000\n",
      "==> par: z_cosm from model: jet_leptonicacc_region linked to same parameter in model jet_leptonic\n",
      "temporal evolution running\n"
     ]
    },
    {
     "data": {
      "application/vnd.jupyter.widget-view+json": {
       "model_id": "6b4a65f5069945289d1e2d00006d04d3",
       "version_major": 2,
       "version_minor": 0
      },
      "text/plain": [
       "  0%|          | 0/1833333 [00:00<?, ?it/s]"
      ]
     },
     "metadata": {},
     "output_type": "display_data"
    },
    {
     "name": "stdout",
     "output_type": "stream",
     "text": [
      "temporal evolution completed\n",
      "caching SED for each saved distribution: start\n"
     ]
    },
    {
     "data": {
      "application/vnd.jupyter.widget-view+json": {
       "model_id": "426cde905fb347e6a3659700dfac127b",
       "version_major": 2,
       "version_minor": 0
      },
      "text/plain": [
       "  0%|          | 0/5000 [00:00<?, ?it/s]"
      ]
     },
     "metadata": {},
     "output_type": "display_data"
    },
    {
     "name": "stdout",
     "output_type": "stream",
     "text": [
      "caching SED for each saved distribution: done\n",
      "1.0 1.0 1833333343.3333333\n",
      "t1=000 t2=000, t2_R=0.000e+00, R2=5.00000e+15 t/t_ref=0.000 t/t_exp=0.000 t/duration=0.000 1.00000e+00\n",
      "t1=000 t2=555, t2_R=2.039e+08, R2=1.11118e+16 t/t_ref=203703704.704 t/t_exp=203703704.704 t/duration=0.111 1.00002e+00\n",
      "t1=000 t2=1111, t2_R=4.077e+08, R2=1.72236e+16 t/t_ref=407407409.407 t/t_exp=407407409.407 t/duration=0.222 1.00002e+00\n",
      "t1=000 t2=1666, t2_R=6.112e+08, R2=2.33243e+16 t/t_ref=611111114.111 t/t_exp=611111114.111 t/duration=0.333 9.99882e-01\n",
      "t1=000 t2=2222, t2_R=8.151e+08, R2=2.94361e+16 t/t_ref=814814818.815 t/t_exp=814814818.815 t/duration=0.445 9.98566e-01\n",
      "t1=000 t2=2777, t2_R=1.019e+09, R2=3.55369e+16 t/t_ref=1018518523.519 t/t_exp=1018518523.519 t/duration=0.556 9.91625e-01\n",
      "t1=000 t2=3333, t2_R=1.222e+09, R2=4.16486e+16 t/t_ref=1222222228.222 t/t_exp=1222222228.222 t/duration=0.667 9.71756e-01\n",
      "t1=000 t2=3888, t2_R=1.426e+09, R2=4.77494e+16 t/t_ref=1425925932.926 t/t_exp=1425925932.926 t/duration=0.778 9.38042e-01\n",
      "t1=000 t2=4444, t2_R=1.630e+09, R2=5.38612e+16 t/t_ref=1629629637.630 t/t_exp=1629629637.630 t/duration=0.889 8.97196e-01\n",
      "t1=000 t2=4999, t2_R=1.833e+09, R2=5.99619e+16 t/t_ref=1833333342.333 t/t_exp=1833333342.333 t/duration=1.000 8.56232e-01\n",
      "----------------------------------------------\n",
      "ID 1\n",
      "beta_exp 0.001885\n",
      "delta_t  est. 1.023527e+03 (d)\n",
      "t_dec  est. 1.023527e+03 (d)\n",
      "delta_t  est. 8.843273e+07 (s)\n",
      "t_dec  est. 8.843274e+07 (s)\n",
      "duration 9.727601e+08\n",
      "T_SIZE 972760\n",
      "NUM_SET 5000\n",
      "==> par: z_cosm from model: jet_leptonicacc_region linked to same parameter in model jet_leptonic\n",
      "temporal evolution running\n"
     ]
    },
    {
     "data": {
      "application/vnd.jupyter.widget-view+json": {
       "model_id": "21a1b0631a9a4b56ba6704117c701e84",
       "version_major": 2,
       "version_minor": 0
      },
      "text/plain": [
       "  0%|          | 0/972760 [00:00<?, ?it/s]"
      ]
     },
     "metadata": {},
     "output_type": "display_data"
    },
    {
     "name": "stdout",
     "output_type": "stream",
     "text": [
      "temporal evolution completed\n",
      "caching SED for each saved distribution: start\n"
     ]
    },
    {
     "data": {
      "application/vnd.jupyter.widget-view+json": {
       "model_id": "2865f2f70e1a4aec9c426ed84951b094",
       "version_major": 2,
       "version_minor": 0
      },
      "text/plain": [
       "  0%|          | 0/5000 [00:00<?, ?it/s]"
      ]
     },
     "metadata": {},
     "output_type": "display_data"
    },
    {
     "name": "stdout",
     "output_type": "stream",
     "text": [
      "caching SED for each saved distribution: done\n",
      "1.0 1.0 972760090.0696834\n",
      "t1=000 t2=000, t2_R=0.000e+00, R2=5.00000e+15 t/t_ref=0.000 t/t_exp=0.000 t/duration=0.000 1.00000e+00\n",
      "t1=000 t2=555, t2_R=1.082e+08, R2=1.11118e+16 t/t_ref=108084454.341 t/t_exp=108084454.341 t/duration=0.111 1.00004e+00\n",
      "t1=000 t2=1111, t2_R=2.163e+08, R2=1.72235e+16 t/t_ref=216168908.682 t/t_exp=216168908.682 t/duration=0.222 1.00004e+00\n",
      "t1=000 t2=1666, t2_R=3.243e+08, R2=2.33244e+16 t/t_ref=324253363.023 t/t_exp=324253363.023 t/duration=0.333 9.99907e-01\n",
      "t1=000 t2=2222, t2_R=4.325e+08, R2=2.94361e+16 t/t_ref=432337817.364 t/t_exp=432337817.364 t/duration=0.445 9.98592e-01\n",
      "t1=000 t2=2777, t2_R=5.405e+08, R2=3.55369e+16 t/t_ref=540422271.705 t/t_exp=540422271.705 t/duration=0.556 9.91652e-01\n",
      "t1=000 t2=3333, t2_R=6.486e+08, R2=4.16487e+16 t/t_ref=648506726.046 t/t_exp=648506726.046 t/duration=0.667 9.71784e-01\n",
      "t1=000 t2=3888, t2_R=7.566e+08, R2=4.77494e+16 t/t_ref=756591180.388 t/t_exp=756591180.388 t/duration=0.778 9.38072e-01\n",
      "t1=000 t2=4444, t2_R=8.648e+08, R2=5.38612e+16 t/t_ref=864675634.729 t/t_exp=864675634.729 t/duration=0.889 8.97227e-01\n",
      "t1=000 t2=4999, t2_R=9.728e+08, R2=5.99619e+16 t/t_ref=972760089.070 t/t_exp=972760089.070 t/duration=1.000 8.56264e-01\n",
      "----------------------------------------------\n",
      "ID 2\n",
      "beta_exp 0.003552\n",
      "delta_t  est. 5.430798e+02 (d)\n",
      "t_dec  est. 5.430798e+02 (d)\n",
      "delta_t  est. 4.692209e+07 (s)\n",
      "t_dec  est. 4.692209e+07 (s)\n",
      "duration 5.161430e+08\n",
      "T_SIZE 516143\n",
      "NUM_SET 5000\n",
      "==> par: z_cosm from model: jet_leptonicacc_region linked to same parameter in model jet_leptonic\n",
      "temporal evolution running\n"
     ]
    },
    {
     "data": {
      "application/vnd.jupyter.widget-view+json": {
       "model_id": "184768f62faf4f9783ba07e291121a51",
       "version_major": 2,
       "version_minor": 0
      },
      "text/plain": [
       "  0%|          | 0/516143 [00:00<?, ?it/s]"
      ]
     },
     "metadata": {},
     "output_type": "display_data"
    },
    {
     "name": "stdout",
     "output_type": "stream",
     "text": [
      "temporal evolution completed\n",
      "caching SED for each saved distribution: start\n"
     ]
    },
    {
     "data": {
      "application/vnd.jupyter.widget-view+json": {
       "model_id": "ed8a2ed8800a4499b039bb6c8d075e53",
       "version_major": 2,
       "version_minor": 0
      },
      "text/plain": [
       "  0%|          | 0/5000 [00:00<?, ?it/s]"
      ]
     },
     "metadata": {},
     "output_type": "display_data"
    },
    {
     "name": "stdout",
     "output_type": "stream",
     "text": [
      "caching SED for each saved distribution: done\n",
      "1.0 1.0 516143013.66027755\n",
      "t1=000 t2=000, t2_R=0.000e+00, R2=5.00000e+15 t/t_ref=0.000 t/t_exp=0.000 t/duration=0.000 1.00000e+00\n",
      "t1=000 t2=555, t2_R=5.740e+07, R2=1.11119e+16 t/t_ref=57349223.629 t/t_exp=57349223.629 t/duration=0.111 1.00007e+00\n",
      "t1=000 t2=1111, t2_R=1.148e+08, R2=1.72236e+16 t/t_ref=114698447.258 t/t_exp=114698447.258 t/duration=0.222 1.00008e+00\n",
      "t1=000 t2=1666, t2_R=1.721e+08, R2=2.33244e+16 t/t_ref=172047670.887 t/t_exp=172047670.887 t/duration=0.333 9.99954e-01\n",
      "t1=000 t2=2222, t2_R=2.295e+08, R2=2.94362e+16 t/t_ref=229396894.516 t/t_exp=229396894.516 t/duration=0.445 9.98642e-01\n",
      "t1=000 t2=2777, t2_R=2.868e+08, R2=3.55370e+16 t/t_ref=286746118.145 t/t_exp=286746118.145 t/duration=0.556 9.91703e-01\n",
      "t1=000 t2=3333, t2_R=3.442e+08, R2=4.16487e+16 t/t_ref=344095341.774 t/t_exp=344095341.774 t/duration=0.667 9.71837e-01\n",
      "t1=000 t2=3888, t2_R=4.015e+08, R2=4.77495e+16 t/t_ref=401444565.402 t/t_exp=401444565.402 t/duration=0.778 9.38128e-01\n",
      "t1=000 t2=4444, t2_R=4.589e+08, R2=5.38613e+16 t/t_ref=458793789.031 t/t_exp=458793789.031 t/duration=0.889 8.97286e-01\n",
      "t1=000 t2=4999, t2_R=5.161e+08, R2=5.99618e+16 t/t_ref=516143012.660 t/t_exp=516143012.660 t/duration=1.000 8.56323e-01\n",
      "----------------------------------------------\n",
      "ID 3\n",
      "beta_exp 0.006694\n",
      "delta_t  est. 2.881562e+02 (d)\n",
      "t_dec  est. 2.881562e+02 (d)\n",
      "delta_t  est. 2.489669e+07 (s)\n",
      "t_dec  est. 2.489669e+07 (s)\n",
      "duration 2.738636e+08\n",
      "T_SIZE 273863\n",
      "NUM_SET 5000\n",
      "==> par: z_cosm from model: jet_leptonicacc_region linked to same parameter in model jet_leptonic\n",
      "temporal evolution running\n"
     ]
    },
    {
     "data": {
      "application/vnd.jupyter.widget-view+json": {
       "model_id": "cb496735e0e84e8c921864087be6b72a",
       "version_major": 2,
       "version_minor": 0
      },
      "text/plain": [
       "  0%|          | 0/273863 [00:00<?, ?it/s]"
      ]
     },
     "metadata": {},
     "output_type": "display_data"
    },
    {
     "name": "stdout",
     "output_type": "stream",
     "text": [
      "temporal evolution completed\n",
      "caching SED for each saved distribution: start\n"
     ]
    },
    {
     "data": {
      "application/vnd.jupyter.widget-view+json": {
       "model_id": "8ae1cae034d84cfea6c923927bb7bf64",
       "version_major": 2,
       "version_minor": 0
      },
      "text/plain": [
       "  0%|          | 0/5000 [00:00<?, ?it/s]"
      ]
     },
     "metadata": {},
     "output_type": "display_data"
    },
    {
     "name": "stdout",
     "output_type": "stream",
     "text": [
      "caching SED for each saved distribution: done\n",
      "1.0 1.0 273863633.40071553\n",
      "t1=000 t2=000, t2_R=0.000e+00, R2=5.00000e+15 t/t_ref=0.000 t/t_exp=0.000 t/duration=0.000 1.00000e+00\n",
      "t1=000 t2=555, t2_R=3.045e+07, R2=1.11119e+16 t/t_ref=30429292.489 t/t_exp=30429292.489 t/duration=0.111 1.00013e+00\n",
      "t1=000 t2=1111, t2_R=6.091e+07, R2=1.72237e+16 t/t_ref=60858584.978 t/t_exp=60858584.978 t/duration=0.222 1.00016e+00\n",
      "t1=000 t2=1666, t2_R=9.131e+07, R2=2.33243e+16 t/t_ref=91287877.467 t/t_exp=91287877.467 t/duration=0.333 1.00004e+00\n",
      "t1=000 t2=2222, t2_R=1.218e+08, R2=2.94362e+16 t/t_ref=121717169.956 t/t_exp=121717169.956 t/duration=0.445 9.98735e-01\n",
      "t1=000 t2=2777, t2_R=1.522e+08, R2=3.55370e+16 t/t_ref=152146462.445 t/t_exp=152146462.445 t/duration=0.556 9.91799e-01\n",
      "t1=000 t2=3333, t2_R=1.826e+08, R2=4.16487e+16 t/t_ref=182575754.934 t/t_exp=182575754.934 t/duration=0.667 9.71938e-01\n",
      "t1=000 t2=3888, t2_R=2.130e+08, R2=4.77495e+16 t/t_ref=213005047.423 t/t_exp=213005047.423 t/duration=0.778 9.38235e-01\n",
      "t1=000 t2=4444, t2_R=2.435e+08, R2=5.38613e+16 t/t_ref=243434339.912 t/t_exp=243434339.912 t/duration=0.889 8.97396e-01\n",
      "t1=000 t2=4999, t2_R=2.739e+08, R2=5.99618e+16 t/t_ref=273863632.401 t/t_exp=273863632.401 t/duration=1.000 8.56436e-01\n",
      "----------------------------------------------\n",
      "ID 4\n",
      "beta_exp 0.012617\n",
      "delta_t  est. 1.528946e+02 (d)\n",
      "t_dec  est. 1.528946e+02 (d)\n",
      "delta_t  est. 1.321010e+07 (s)\n",
      "t_dec  est. 1.321010e+07 (s)\n",
      "duration 1.453111e+08\n",
      "T_SIZE 145311\n",
      "NUM_SET 5000\n",
      "==> par: z_cosm from model: jet_leptonicacc_region linked to same parameter in model jet_leptonic\n",
      "temporal evolution running\n"
     ]
    },
    {
     "data": {
      "application/vnd.jupyter.widget-view+json": {
       "model_id": "540ef06d5aea43c4b02e7ecfdbdb4d4d",
       "version_major": 2,
       "version_minor": 0
      },
      "text/plain": [
       "  0%|          | 0/145311 [00:00<?, ?it/s]"
      ]
     },
     "metadata": {},
     "output_type": "display_data"
    },
    {
     "name": "stdout",
     "output_type": "stream",
     "text": [
      "temporal evolution completed\n",
      "caching SED for each saved distribution: start\n"
     ]
    },
    {
     "data": {
      "application/vnd.jupyter.widget-view+json": {
       "model_id": "837069b2392d4a999d8844753a4cf653",
       "version_major": 2,
       "version_minor": 0
      },
      "text/plain": [
       "  0%|          | 0/5000 [00:00<?, ?it/s]"
      ]
     },
     "metadata": {},
     "output_type": "display_data"
    },
    {
     "name": "stdout",
     "output_type": "stream",
     "text": [
      "caching SED for each saved distribution: done\n",
      "1.0 1.0 145311064.6695201\n",
      "t1=000 t2=000, t2_R=0.000e+00, R2=5.00000e+15 t/t_ref=0.000 t/t_exp=0.000 t/duration=0.000 1.00000e+00\n",
      "t1=000 t2=555, t2_R=1.616e+07, R2=1.11119e+16 t/t_ref=16145673.741 t/t_exp=16145673.741 t/duration=0.111 1.00025e+00\n",
      "t1=000 t2=1111, t2_R=3.232e+07, R2=1.72239e+16 t/t_ref=32291347.482 t/t_exp=32291347.482 t/duration=0.222 1.00031e+00\n",
      "t1=000 t2=1666, t2_R=4.845e+07, R2=2.33244e+16 t/t_ref=48437021.223 t/t_exp=48437021.223 t/duration=0.333 1.00021e+00\n",
      "t1=000 t2=2222, t2_R=6.461e+07, R2=2.94364e+16 t/t_ref=64582694.964 t/t_exp=64582694.964 t/duration=0.445 9.98911e-01\n",
      "t1=000 t2=2777, t2_R=8.074e+07, R2=3.55369e+16 t/t_ref=80728368.705 t/t_exp=80728368.705 t/duration=0.556 9.91980e-01\n",
      "t1=000 t2=3333, t2_R=9.689e+07, R2=4.16489e+16 t/t_ref=96874042.446 t/t_exp=96874042.446 t/duration=0.667 9.72126e-01\n",
      "t1=000 t2=3888, t2_R=1.130e+08, R2=4.77494e+16 t/t_ref=113019716.187 t/t_exp=113019716.187 t/duration=0.778 9.38436e-01\n",
      "t1=000 t2=4444, t2_R=1.292e+08, R2=5.38614e+16 t/t_ref=129165389.928 t/t_exp=129165389.928 t/duration=0.889 8.97605e-01\n",
      "t1=000 t2=4999, t2_R=1.453e+08, R2=5.99616e+16 t/t_ref=145311063.670 t/t_exp=145311063.670 t/duration=1.000 8.56647e-01\n",
      "----------------------------------------------\n",
      "ID 5\n",
      "beta_exp 0.023778\n",
      "delta_t  est. 8.112534e+01 (d)\n",
      "t_dec  est. 8.112535e+01 (d)\n",
      "delta_t  est. 7.009229e+06 (s)\n",
      "t_dec  est. 7.009230e+06 (s)\n",
      "duration 7.710153e+07\n",
      "T_SIZE 77101\n",
      "NUM_SET 5000\n",
      "==> par: z_cosm from model: jet_leptonicacc_region linked to same parameter in model jet_leptonic\n",
      "temporal evolution running\n"
     ]
    },
    {
     "data": {
      "application/vnd.jupyter.widget-view+json": {
       "model_id": "7e509840abbf4ad7b5e07b500954d541",
       "version_major": 2,
       "version_minor": 0
      },
      "text/plain": [
       "  0%|          | 0/77101 [00:00<?, ?it/s]"
      ]
     },
     "metadata": {},
     "output_type": "display_data"
    },
    {
     "name": "stdout",
     "output_type": "stream",
     "text": [
      "temporal evolution completed\n",
      "caching SED for each saved distribution: start\n"
     ]
    },
    {
     "data": {
      "application/vnd.jupyter.widget-view+json": {
       "model_id": "bfd208f0e2e04e14a5445c4b0c9335b2",
       "version_major": 2,
       "version_minor": 0
      },
      "text/plain": [
       "  0%|          | 0/5000 [00:00<?, ?it/s]"
      ]
     },
     "metadata": {},
     "output_type": "display_data"
    },
    {
     "name": "stdout",
     "output_type": "stream",
     "text": [
      "caching SED for each saved distribution: done\n",
      "1.0 1.0 77101533.55018133\n",
      "t1=000 t2=000, t2_R=0.000e+00, R2=5.00000e+15 t/t_ref=0.000 t/t_exp=0.000 t/duration=0.000 1.00000e+00\n",
      "t1=000 t2=555, t2_R=8.574e+06, R2=1.11120e+16 t/t_ref=8566836.950 t/t_exp=8566836.950 t/duration=0.111 1.00047e+00\n",
      "t1=000 t2=1111, t2_R=1.715e+07, R2=1.72241e+16 t/t_ref=17133673.900 t/t_exp=17133673.900 t/duration=0.222 1.00060e+00\n",
      "t1=000 t2=1666, t2_R=2.571e+07, R2=2.33247e+16 t/t_ref=25700510.850 t/t_exp=25700510.850 t/duration=0.333 1.00053e+00\n",
      "t1=000 t2=2222, t2_R=3.428e+07, R2=2.94367e+16 t/t_ref=34267347.800 t/t_exp=34267347.800 t/duration=0.445 9.99243e-01\n",
      "t1=000 t2=2777, t2_R=4.284e+07, R2=3.55374e+16 t/t_ref=42834184.750 t/t_exp=42834184.750 t/duration=0.556 9.92321e-01\n",
      "t1=000 t2=3333, t2_R=5.141e+07, R2=4.16487e+16 t/t_ref=51401021.700 t/t_exp=51401021.700 t/duration=0.667 9.72483e-01\n",
      "t1=000 t2=3888, t2_R=5.997e+07, R2=4.77500e+16 t/t_ref=59967858.650 t/t_exp=59967858.650 t/duration=0.778 9.38812e-01\n",
      "t1=000 t2=4444, t2_R=6.854e+07, R2=5.38613e+16 t/t_ref=68534695.600 t/t_exp=68534695.600 t/duration=0.889 8.98000e-01\n",
      "t1=000 t2=4999, t2_R=7.710e+07, R2=5.99612e+16 t/t_ref=77101532.550 t/t_exp=77101532.550 t/duration=1.000 8.57046e-01\n",
      "----------------------------------------------\n",
      "ID 6\n",
      "beta_exp 0.044814\n",
      "delta_t  est. 4.304481e+01 (d)\n",
      "t_dec  est. 4.304483e+01 (d)\n",
      "delta_t  est. 3.719072e+06 (s)\n",
      "t_dec  est. 3.719073e+06 (s)\n",
      "duration 4.090980e+07\n",
      "T_SIZE 40909\n",
      "NUM_SET 5000\n",
      "==> par: z_cosm from model: jet_leptonicacc_region linked to same parameter in model jet_leptonic\n",
      "temporal evolution running\n"
     ]
    },
    {
     "data": {
      "application/vnd.jupyter.widget-view+json": {
       "model_id": "466e63004e3740a1a70601dbb29bbee2",
       "version_major": 2,
       "version_minor": 0
      },
      "text/plain": [
       "  0%|          | 0/40909 [00:00<?, ?it/s]"
      ]
     },
     "metadata": {},
     "output_type": "display_data"
    },
    {
     "name": "stdout",
     "output_type": "stream",
     "text": [
      "temporal evolution completed\n",
      "caching SED for each saved distribution: start\n"
     ]
    },
    {
     "data": {
      "application/vnd.jupyter.widget-view+json": {
       "model_id": "525f0d81cde14410921ce287b666ff00",
       "version_major": 2,
       "version_minor": 0
      },
      "text/plain": [
       "  0%|          | 0/5000 [00:00<?, ?it/s]"
      ]
     },
     "metadata": {},
     "output_type": "display_data"
    },
    {
     "name": "stdout",
     "output_type": "stream",
     "text": [
      "caching SED for each saved distribution: done\n",
      "1.0 1.0 40909801.39391035\n",
      "t1=000 t2=000, t2_R=0.000e+00, R2=5.00000e+15 t/t_ref=0.000 t/t_exp=0.000 t/duration=0.000 1.00000e+00\n",
      "t1=000 t2=555, t2_R=4.550e+06, R2=1.11130e+16 t/t_ref=4545533.377 t/t_exp=4545533.377 t/duration=0.111 1.00089e+00\n",
      "t1=000 t2=1111, t2_R=9.099e+06, R2=1.72247e+16 t/t_ref=9091066.754 t/t_exp=9091066.754 t/duration=0.222 1.00114e+00\n",
      "t1=000 t2=1666, t2_R=1.364e+07, R2=2.33256e+16 t/t_ref=13636600.131 t/t_exp=13636600.131 t/duration=0.333 1.00112e+00\n",
      "t1=000 t2=2222, t2_R=1.819e+07, R2=2.94372e+16 t/t_ref=18182133.508 t/t_exp=18182133.508 t/duration=0.445 9.99869e-01\n",
      "t1=000 t2=2777, t2_R=2.273e+07, R2=3.55382e+16 t/t_ref=22727666.886 t/t_exp=22727666.886 t/duration=0.556 9.92963e-01\n",
      "t1=000 t2=3333, t2_R=2.728e+07, R2=4.16498e+16 t/t_ref=27273200.263 t/t_exp=27273200.263 t/duration=0.667 9.73150e-01\n",
      "t1=000 t2=3888, t2_R=3.182e+07, R2=4.77507e+16 t/t_ref=31818733.640 t/t_exp=31818733.640 t/duration=0.778 9.39521e-01\n",
      "t1=000 t2=4444, t2_R=3.637e+07, R2=5.38624e+16 t/t_ref=36364267.017 t/t_exp=36364267.017 t/duration=0.889 8.98736e-01\n",
      "t1=000 t2=4999, t2_R=4.091e+07, R2=5.99606e+16 t/t_ref=40909800.394 t/t_exp=40909800.394 t/duration=1.000 8.57799e-01\n",
      "----------------------------------------------\n",
      "ID 7\n",
      "beta_exp 0.084460\n",
      "delta_t  est. 2.283942e+01 (d)\n",
      "t_dec  est. 2.283944e+01 (d)\n",
      "delta_t  est. 1.973326e+06 (s)\n",
      "t_dec  est. 1.973327e+06 (s)\n",
      "duration 2.170660e+07\n",
      "T_SIZE 21706\n",
      "NUM_SET 5000\n",
      "==> par: z_cosm from model: jet_leptonicacc_region linked to same parameter in model jet_leptonic\n",
      "temporal evolution running\n"
     ]
    },
    {
     "data": {
      "application/vnd.jupyter.widget-view+json": {
       "model_id": "3317e45431e6416da0450f3122ccc922",
       "version_major": 2,
       "version_minor": 0
      },
      "text/plain": [
       "  0%|          | 0/21706 [00:00<?, ?it/s]"
      ]
     },
     "metadata": {},
     "output_type": "display_data"
    },
    {
     "name": "stdout",
     "output_type": "stream",
     "text": [
      "temporal evolution completed\n",
      "caching SED for each saved distribution: start\n"
     ]
    },
    {
     "data": {
      "application/vnd.jupyter.widget-view+json": {
       "model_id": "40b544f1a2844ee78de359339c435c4b",
       "version_major": 2,
       "version_minor": 0
      },
      "text/plain": [
       "  0%|          | 0/5000 [00:00<?, ?it/s]"
      ]
     },
     "metadata": {},
     "output_type": "display_data"
    },
    {
     "name": "stdout",
     "output_type": "stream",
     "text": [
      "caching SED for each saved distribution: done\n",
      "1.0 1.0 21706598.3374405\n",
      "t1=000 t2=000, t2_R=0.000e+00, R2=5.00000e+15 t/t_ref=0.000 t/t_exp=0.000 t/duration=0.000 1.00000e+00\n",
      "t1=000 t2=555, t2_R=2.414e+06, R2=1.11125e+16 t/t_ref=2411844.149 t/t_exp=2411844.149 t/duration=0.111 1.00167e+00\n",
      "t1=000 t2=1111, t2_R=4.828e+06, R2=1.72250e+16 t/t_ref=4823688.297 t/t_exp=4823688.297 t/duration=0.222 1.00215e+00\n",
      "t1=000 t2=1666, t2_R=7.237e+06, R2=2.33249e+16 t/t_ref=7235532.446 t/t_exp=7235532.446 t/duration=0.333 1.00224e+00\n",
      "t1=000 t2=2222, t2_R=9.651e+06, R2=2.94374e+16 t/t_ref=9647376.594 t/t_exp=9647376.594 t/duration=0.445 1.00105e+00\n",
      "t1=000 t2=2777, t2_R=1.206e+07, R2=3.55372e+16 t/t_ref=12059220.743 t/t_exp=12059220.743 t/duration=0.556 9.94178e-01\n",
      "t1=000 t2=3333, t2_R=1.447e+07, R2=4.16498e+16 t/t_ref=14471064.892 t/t_exp=14471064.892 t/duration=0.667 9.74418e-01\n",
      "t1=000 t2=3888, t2_R=1.688e+07, R2=4.77496e+16 t/t_ref=16882909.040 t/t_exp=16882909.040 t/duration=0.778 9.40875e-01\n",
      "t1=000 t2=4444, t2_R=1.930e+07, R2=5.38621e+16 t/t_ref=19294753.189 t/t_exp=19294753.189 t/duration=0.889 9.00139e-01\n",
      "t1=000 t2=4999, t2_R=2.171e+07, R2=5.99594e+16 t/t_ref=21706597.337 t/t_exp=21706597.337 t/duration=1.000 8.59217e-01\n",
      "----------------------------------------------\n",
      "ID 8\n",
      "beta_exp 0.159179\n",
      "delta_t  est. 1.211852e+01 (d)\n",
      "t_dec  est. 1.211853e+01 (d)\n",
      "delta_t  est. 1.047040e+06 (s)\n",
      "t_dec  est. 1.047041e+06 (s)\n",
      "duration 1.151745e+07\n",
      "T_SIZE 11517\n",
      "NUM_SET 5000\n",
      "==> par: z_cosm from model: jet_leptonicacc_region linked to same parameter in model jet_leptonic\n",
      "temporal evolution running\n"
     ]
    },
    {
     "data": {
      "application/vnd.jupyter.widget-view+json": {
       "model_id": "1f95747922d34368a158ca7678ef6bf8",
       "version_major": 2,
       "version_minor": 0
      },
      "text/plain": [
       "  0%|          | 0/11517 [00:00<?, ?it/s]"
      ]
     },
     "metadata": {},
     "output_type": "display_data"
    },
    {
     "name": "stdout",
     "output_type": "stream",
     "text": [
      "temporal evolution completed\n",
      "caching SED for each saved distribution: start\n"
     ]
    },
    {
     "data": {
      "application/vnd.jupyter.widget-view+json": {
       "model_id": "36154bd5e69a485384010f32f67d9b71",
       "version_major": 2,
       "version_minor": 0
      },
      "text/plain": [
       "  0%|          | 0/5000 [00:00<?, ?it/s]"
      ]
     },
     "metadata": {},
     "output_type": "display_data"
    },
    {
     "name": "stdout",
     "output_type": "stream",
     "text": [
      "caching SED for each saved distribution: done\n",
      "1.0 1.0 11517447.786819056\n",
      "t1=000 t2=000, t2_R=0.000e+00, R2=5.00000e+15 t/t_ref=0.000 t/t_exp=0.000 t/duration=0.000 1.00000e+00\n",
      "t1=000 t2=555, t2_R=1.281e+06, R2=1.11133e+16 t/t_ref=1279716.310 t/t_exp=1279716.310 t/duration=0.111 1.00315e+00\n",
      "t1=000 t2=1111, t2_R=2.562e+06, R2=1.72265e+16 t/t_ref=2559432.619 t/t_exp=2559432.619 t/duration=0.222 1.00406e+00\n",
      "t1=000 t2=1666, t2_R=3.840e+06, R2=2.33254e+16 t/t_ref=3839148.929 t/t_exp=3839148.929 t/duration=0.333 1.00435e+00\n",
      "t1=000 t2=2222, t2_R=5.121e+06, R2=2.94387e+16 t/t_ref=5118865.239 t/t_exp=5118865.239 t/duration=0.445 1.00327e+00\n",
      "t1=000 t2=2777, t2_R=6.399e+06, R2=3.55376e+16 t/t_ref=6398581.548 t/t_exp=6398581.548 t/duration=0.556 9.96468e-01\n",
      "t1=000 t2=3333, t2_R=7.680e+06, R2=4.16509e+16 t/t_ref=7678297.858 t/t_exp=7678297.858 t/duration=0.667 9.76804e-01\n",
      "t1=000 t2=3888, t2_R=8.958e+06, R2=4.77498e+16 t/t_ref=8958014.168 t/t_exp=8958014.168 t/duration=0.778 9.43412e-01\n",
      "t1=000 t2=4444, t2_R=1.024e+07, R2=5.38631e+16 t/t_ref=10237730.477 t/t_exp=10237730.477 t/duration=0.889 9.02775e-01\n",
      "t1=000 t2=4999, t2_R=1.152e+07, R2=5.99572e+16 t/t_ref=11517446.787 t/t_exp=11517446.787 t/duration=1.000 8.61892e-01\n",
      "----------------------------------------------\n",
      "ID 9\n",
      "beta_exp 0.300000\n",
      "delta_t  est. 6.430041e+00 (d)\n",
      "t_dec  est. 6.430053e+00 (d)\n",
      "delta_t  est. 5.555556e+05 (s)\n",
      "t_dec  est. 5.555566e+05 (s)\n",
      "duration 6.111121e+06\n",
      "T_SIZE 6111\n",
      "NUM_SET 5000\n",
      "==> par: z_cosm from model: jet_leptonicacc_region linked to same parameter in model jet_leptonic\n",
      "temporal evolution running\n"
     ]
    },
    {
     "data": {
      "application/vnd.jupyter.widget-view+json": {
       "model_id": "94d8d85869fb44018aef9557ce49c7b1",
       "version_major": 2,
       "version_minor": 0
      },
      "text/plain": [
       "  0%|          | 0/6111 [00:00<?, ?it/s]"
      ]
     },
     "metadata": {},
     "output_type": "display_data"
    },
    {
     "name": "stdout",
     "output_type": "stream",
     "text": [
      "temporal evolution completed\n",
      "caching SED for each saved distribution: start\n"
     ]
    },
    {
     "data": {
      "application/vnd.jupyter.widget-view+json": {
       "model_id": "1f57701ff12c4926b652e333eeb48600",
       "version_major": 2,
       "version_minor": 0
      },
      "text/plain": [
       "  0%|          | 0/4999 [00:00<?, ?it/s]"
      ]
     },
     "metadata": {},
     "output_type": "display_data"
    },
    {
     "name": "stdout",
     "output_type": "stream",
     "text": [
      "caching SED for each saved distribution: done\n",
      "1.0 1.0 6111121.111111112\n",
      "t1=000 t2=000, t2_R=0.000e+00, R2=5.00000e+15 t/t_ref=0.000 t/t_exp=0.000 t/duration=0.000 1.00000e+00\n",
      "t1=000 t2=555, t2_R=6.800e+05, R2=1.11159e+16 t/t_ref=679013.346 t/t_exp=679013.346 t/duration=0.111 1.00594e+00\n",
      "t1=000 t2=1110, t2_R=1.358e+06, R2=1.72138e+16 t/t_ref=1358026.691 t/t_exp=1358026.691 t/duration=0.222 1.00766e+00\n",
      "t1=000 t2=1666, t2_R=2.038e+06, R2=2.33297e+16 t/t_ref=2037040.037 t/t_exp=2037040.037 t/duration=0.333 1.00834e+00\n",
      "t1=000 t2=2221, t2_R=2.716e+06, R2=2.94276e+16 t/t_ref=2716053.383 t/t_exp=2716053.383 t/duration=0.444 1.00748e+00\n",
      "t1=000 t2=2777, t2_R=3.396e+06, R2=3.55435e+16 t/t_ref=3395066.728 t/t_exp=3395066.728 t/duration=0.556 1.00078e+00\n",
      "t1=000 t2=3332, t2_R=4.074e+06, R2=4.16414e+16 t/t_ref=4074080.074 t/t_exp=4074080.074 t/duration=0.667 9.81360e-01\n",
      "t1=000 t2=3888, t2_R=4.754e+06, R2=4.77572e+16 t/t_ref=4753093.420 t/t_exp=4753093.420 t/duration=0.778 9.48155e-01\n",
      "t1=000 t2=4443, t2_R=5.432e+06, R2=5.38551e+16 t/t_ref=5432106.765 t/t_exp=5432106.765 t/duration=0.889 9.07814e-01\n",
      "t1=000 t2=4998, t2_R=6.110e+06, R2=5.99530e+16 t/t_ref=6111120.111 t/t_exp=6111120.111 t/duration=1.000 8.66942e-01\n",
      "----------------------------------------------\n"
     ]
    }
   ],
   "source": [
    "run=True\n",
    "for ID,v in enumerate(beta_exp):\n",
    "    duration=delta_t_est(t_exp,R0,v)+10*t_dec_est(R0,-1,v)\n",
    "    T_SIZE=np.int(duration/1000)\n",
    "    NUM_SET=np.int(T_SIZE)\n",
    "    NUM_SET=min(5000,NUM_SET)\n",
    "    NUM_SET=max(1000,NUM_SET)\n",
    "    print('ID',ID)\n",
    "    print('beta_exp %f'%v)\n",
    "    print('delta_t  est. %e (d)'%(delta_t_est(t_exp,R0,v)/86400))\n",
    "    print('t_dec  est. %e (d)'%(t_dec_est(R0,-1,v)/86400))\n",
    "    print('delta_t  est. %e (s)'%(delta_t_est(t_exp,R0,v)))\n",
    "    print('t_dec  est. %e (s)'%(t_dec_est(R0,-1,v)))\n",
    "    print('duration %e'%duration)\n",
    "    print('T_SIZE %d'%T_SIZE)\n",
    "    print('NUM_SET %d'%NUM_SET)\n",
    "    run_adiabatic_exp(sed_data,\n",
    "                      fit_model,\n",
    "                      'temp_ev_sim_exp_change_beta_no_synch_cooling',\n",
    "                      temp_ev_acc_flare,\n",
    "                      flare_duration=0,\n",
    "                      duration=duration,\n",
    "                      delta_t_out=delta_t_out,\n",
    "                      T_esc_rad=1E60,\n",
    "                      rest_frame=rest_frame,\n",
    "                      T_SIZE=T_SIZE,\n",
    "                      NUM_SET=NUM_SET,\n",
    "                      run=run,\n",
    "                      beta_exp=v,\n",
    "                      t_exp=t_exp,\n",
    "                      synch_cooling_off=True,\n",
    "                      cache_SEDs_rad=True,\n",
    "                      m_B=1)\n",
    "    \n",
    "   \n",
    "    print('----------------------------------------------')"
   ]
  },
  {
   "cell_type": "code",
   "execution_count": 6,
   "metadata": {},
   "outputs": [
    {
     "data": {
      "image/png": "[encoded data removed]",
      "text/plain": [
       "<Figure size 1200x600 with 2 Axes>"
      ]
     },
     "metadata": {},
     "output_type": "display_data"
    },
    {
     "data": {
      "image/png": "[encoded data removed]",
      "text/plain": [
       "<Figure size 1200x600 with 2 Axes>"
      ]
     },
     "metadata": {},
     "output_type": "display_data"
    }
   ],
   "source": [
    "from expansion_tools.delay_analysis import plot_lcs\n",
    "\n",
    "d=plot_lcs(exp_lcs='temp_ev_sim_exp_change_beta_no_synch_cooling/lc_obs_beta_exp=0.001.pkl',lcs_names=['lg_obs','lr_obs_15GHz'],flare_lcs=None)\n",
    "f=plot_lcs(exp_lcs='temp_ev_sim_exp_change_beta/lc_obs_beta_exp=0.001.pkl',lcs_names=['lg_obs','lr_obs_15GHz'],flare_lcs=None)"
   ]
  },
  {
   "cell_type": "code",
   "execution_count": 7,
   "metadata": {},
   "outputs": [
    {
     "name": "stdout",
     "output_type": "stream",
     "text": [
      "ID 0\n",
      "beta_exp 0.100000\n",
      "delta_t  est. 1.929012e+01 (d)\n",
      "t_dec  est. 1.929014e+01 (d)\n",
      "delta_t  est. 1.666667e+06 (s)\n",
      "t_dec  est. 1.666668e+06 (s)\n",
      "duration 1.833334e+07\n",
      "T_SIZE 18333\n",
      "NUM_SET 5000\n",
      "==> par: z_cosm from model: jet_leptonicacc_region linked to same parameter in model jet_leptonic\n",
      "temporal evolution running\n"
     ]
    },
    {
     "data": {
      "application/vnd.jupyter.widget-view+json": {
       "model_id": "948a882541fe421f96e0929b9ef1bfba",
       "version_major": 2,
       "version_minor": 0
      },
      "text/plain": [
       "  0%|          | 0/18333 [00:00<?, ?it/s]"
      ]
     },
     "metadata": {},
     "output_type": "display_data"
    },
    {
     "name": "stdout",
     "output_type": "stream",
     "text": [
      "temporal evolution completed\n",
      "caching SED for each saved distribution: start\n"
     ]
    },
    {
     "data": {
      "application/vnd.jupyter.widget-view+json": {
       "model_id": "fb65b433dfe04345bcd5fdcc4925f64b",
       "version_major": 2,
       "version_minor": 0
      },
      "text/plain": [
       "  0%|          | 0/5000 [00:00<?, ?it/s]"
      ]
     },
     "metadata": {},
     "output_type": "display_data"
    },
    {
     "name": "stdout",
     "output_type": "stream",
     "text": [
      "caching SED for each saved distribution: done\n",
      "1.0 1.0 18333343.333333332\n",
      "t1=000 t2=000, t2_R=0.000e+00, R2=5.00000e+15 t/t_ref=0.000 t/t_exp=0.000 t/duration=0.000 1.00000e+00\n",
      "t1=000 t2=555, t2_R=2.039e+06, R2=1.11129e+16 t/t_ref=2037038.037 t/t_exp=2037038.037 t/duration=0.111 1.00198e+00\n",
      "t1=000 t2=1111, t2_R=4.078e+06, R2=1.72258e+16 t/t_ref=4074076.074 t/t_exp=4074076.074 t/duration=0.222 1.00255e+00\n",
      "t1=000 t2=1666, t2_R=6.113e+06, R2=2.33267e+16 t/t_ref=6111114.111 t/t_exp=6111114.111 t/duration=0.333 1.00268e+00\n",
      "t1=000 t2=2222, t2_R=8.151e+06, R2=2.94365e+16 t/t_ref=8148152.148 t/t_exp=8148152.148 t/duration=0.445 1.00151e+00\n",
      "t1=000 t2=2777, t2_R=1.019e+07, R2=3.55374e+16 t/t_ref=10185190.185 t/t_exp=10185190.185 t/duration=0.556 9.94654e-01\n",
      "t1=000 t2=3333, t2_R=1.223e+07, R2=4.16503e+16 t/t_ref=12222228.222 t/t_exp=12222228.222 t/duration=0.667 9.74912e-01\n",
      "t1=000 t2=3888, t2_R=1.426e+07, R2=4.77512e+16 t/t_ref=14259266.259 t/t_exp=14259266.259 t/duration=0.778 9.41392e-01\n",
      "t1=000 t2=4444, t2_R=1.630e+07, R2=5.38641e+16 t/t_ref=16296304.296 t/t_exp=16296304.296 t/duration=0.889 9.00675e-01\n",
      "t1=000 t2=4999, t2_R=1.833e+07, R2=5.99590e+16 t/t_ref=18333342.333 t/t_exp=18333342.333 t/duration=1.000 8.59773e-01\n",
      "----------------------------------------------\n"
     ]
    }
   ],
   "source": [
    "beta_exp=[0.1]\n",
    "for ID,v in enumerate(beta_exp):\n",
    "    duration=delta_t_est(t_exp,R0,v)+10*t_dec_est(R0,-1,v)\n",
    "    T_SIZE=np.int(duration/1000)\n",
    "    NUM_SET=np.int(T_SIZE)\n",
    "    NUM_SET=min(5000,NUM_SET)\n",
    "    NUM_SET=max(1000,NUM_SET)\n",
    "    print('ID',ID)\n",
    "    print('beta_exp %f'%v)\n",
    "    print('delta_t  est. %e (d)'%(delta_t_est(t_exp,R0,v)/86400))\n",
    "    print('t_dec  est. %e (d)'%(t_dec_est(R0,-1,v)/86400))\n",
    "    print('delta_t  est. %e (s)'%(delta_t_est(t_exp,R0,v)))\n",
    "    print('t_dec  est. %e (s)'%(t_dec_est(R0,-1,v)))\n",
    "    print('duration %e'%duration)\n",
    "    print('T_SIZE %d'%T_SIZE)\n",
    "    print('NUM_SET %d'%NUM_SET)\n",
    "    run_adiabatic_exp(sed_data,\n",
    "                      fit_model,\n",
    "                      'temp_ev_sim_exp_beta_0.1_no_sync_cooling',\n",
    "                      temp_ev_acc_flare,\n",
    "                      flare_duration=0,\n",
    "                      duration=duration,\n",
    "                      delta_t_out=delta_t_out,\n",
    "                      T_esc_rad=1E60,\n",
    "                      rest_frame=rest_frame,\n",
    "                      T_SIZE=T_SIZE,\n",
    "                      NUM_SET=NUM_SET,\n",
    "                      run=run,\n",
    "                      beta_exp=v,\n",
    "                      t_exp=t_exp,\n",
    "                      synch_cooling_off=True,\n",
    "                      cache_SEDs_rad=True,\n",
    "                      m_B=1)\n",
    "    \n",
    "    \n",
    "   \n",
    "    print('----------------------------------------------')    "
   ]
  },
  {
   "cell_type": "code",
   "execution_count": null,
   "metadata": {},
   "outputs": [],
   "source": []
  }
 ],
 "metadata": {
  "interpreter": {
   "hash": "8270343c67bbf83425ea85c800ec82ffd57e3aaad435765e5bb7293c6efe66b4"
  },
  "kernelspec": {
   "display_name": "Python 3 (ipykernel)",
   "language": "python",
   "name": "python3"
  },
  "language_info": {
   "codemirror_mode": {
    "name": "ipython",
    "version": 3
   },
   "file_extension": ".py",
   "mimetype": "text/x-python",
   "name": "python",
   "nbconvert_exporter": "python",
   "pygments_lexer": "ipython3",
   "version": "3.9.13"
  }
 },
 "nbformat": 4,
 "nbformat_minor": 4
}
