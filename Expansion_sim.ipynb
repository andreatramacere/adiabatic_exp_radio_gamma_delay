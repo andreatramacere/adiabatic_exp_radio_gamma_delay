{
 "cells": [
  {
   "cell_type": "code",
   "execution_count": 2,
   "metadata": {},
   "outputs": [],
   "source": [
    "from expansion_tools.blob_expansion_tools_jetset import *\n",
    "from jetset.data_loader import Data,ObsData\n",
    "from jetset.plot_sedfit import PlotSED\n"
   ]
  },
  {
   "cell_type": "markdown",
   "metadata": {},
   "source": [
    "## Notebook to run the simulations for the long-term adiabatic expansions used in Section 5 of the paper"
   ]
  },
  {
   "cell_type": "code",
   "execution_count": 8,
   "metadata": {},
   "outputs": [],
   "source": [
    "sed_data = ObsData(data_table=Data.from_file('sed_mrk421_mjd_56302.ecsv'))\n",
    "from jetset.model_manager import  FitModel\n",
    "fit_model=FitModel.load_model('processing/fit_model_lsb_mjd56302.pkl')"
   ]
  },
  {
   "cell_type": "code",
   "execution_count": 9,
   "metadata": {},
   "outputs": [],
   "source": [
    "rest_frame='obs'\n",
    "delta_t_out=1E3\n",
    "t_exp=1E7"
   ]
  },
  {
   "cell_type": "markdown",
   "metadata": {},
   "source": [
    "## expansion short"
   ]
  },
  {
   "cell_type": "code",
   "execution_count": 10,
   "metadata": {},
   "outputs": [],
   "source": [
    "from jetset.jet_timedep import JetTimeEvol\n",
    "temp_ev_acc_flare=JetTimeEvol.load_model('temp_ev_sim_flare/temp_ev_acc_flare.pkl')\n",
    "R0=temp_ev_acc_flare.rad_region.jet.parameters.R.val\n",
    "\n",
    "def delta_t_est(t_exp,R0,beta_exp):\n",
    "    return t_exp+R0/(beta_exp*3E10)\n",
    "\n",
    "def t_dec_est(R0,a,beta_exp):\n",
    "    return ((R0+beta_exp*3E10)*np.power(beta_exp*3E10,a))\n",
    "\n",
    "beta_exp=np.logspace(-3,np.log10(0.3),10)\n",
    "\n"
   ]
  },
  {
   "cell_type": "markdown",
   "metadata": {},
   "source": [
    "Set `run=False` if you have already run the simulations, and you want only to regenerate lcs or SEDs"
   ]
  },
  {
   "cell_type": "code",
   "execution_count": 13,
   "metadata": {},
   "outputs": [
    {
     "name": "stdout",
     "output_type": "stream",
     "text": [
      "ID 0\n",
      "beta_exp 0.001000\n",
      "delta_t  est. 2.044753e+03 (d)\n",
      "t_dec  est. 1.929012e+03 (d)\n",
      "delta_t  est. 1.766667e+08 (s)\n",
      "t_dec  est. 1.666667e+08 (s)\n",
      "duration 1.843333e+09\n",
      "T_SIZE 1843333\n",
      "NUM_SET 5000\n",
      "==> par: z_cosm from model: jet_leptonicacc_region linked to same parameter in model jet_leptonic\n",
      "temporal evolution running\n"
     ]
    },
    {
     "data": {
      "application/vnd.jupyter.widget-view+json": {
       "model_id": "00e40b9f9b5c4054be8c8ff09e15319f",
       "version_major": 2,
       "version_minor": 0
      },
      "text/plain": [
       "  0%|          | 0/1843333 [00:00<?, ?it/s]"
      ]
     },
     "metadata": {},
     "output_type": "display_data"
    },
    {
     "name": "stdout",
     "output_type": "stream",
     "text": [
      "temporal evolution completed\n",
      "caching SED for each saved distribution: start\n"
     ]
    },
    {
     "data": {
      "application/vnd.jupyter.widget-view+json": {
       "model_id": "de3c5bcb8d7c47889639a30491929e1d",
       "version_major": 2,
       "version_minor": 0
      },
      "text/plain": [
       "  0%|          | 0/5000 [00:00<?, ?it/s]"
      ]
     },
     "metadata": {},
     "output_type": "display_data"
    },
    {
     "name": "stdout",
     "output_type": "stream",
     "text": [
      "caching SED for each saved distribution: done\n",
      "t1=027 t2=000, t2_R=0.000e+00, R2=5.00000e+15 t/t_ref=0.000 t/t_exp=0.000 t/duration=0.000 1.00002e+00\n",
      "t1=027 t2=555, t2_R=2.050e+08, R2=1.08453e+16 t/t_ref=20.481 t/t_exp=20.481 t/duration=0.000 1.00002e+00\n",
      "t1=027 t2=1111, t2_R=4.100e+08, R2=1.69904e+16 t/t_ref=40.963 t/t_exp=40.963 t/duration=0.000 1.00002e+00\n",
      "t1=027 t2=1666, t2_R=6.146e+08, R2=2.31245e+16 t/t_ref=61.444 t/t_exp=61.444 t/duration=0.000 9.99860e-01\n",
      "t1=027 t2=2222, t2_R=8.195e+08, R2=2.92696e+16 t/t_ref=81.926 t/t_exp=81.926 t/duration=0.000 9.98165e-01\n",
      "t1=027 t2=2777, t2_R=1.024e+09, R2=3.54036e+16 t/t_ref=102.407 t/t_exp=102.407 t/duration=0.000 9.88924e-01\n",
      "t1=027 t2=3333, t2_R=1.229e+09, R2=4.15488e+16 t/t_ref=122.889 t/t_exp=122.889 t/duration=0.000 9.63642e-01\n",
      "t1=027 t2=3888, t2_R=1.434e+09, R2=4.76828e+16 t/t_ref=143.370 t/t_exp=143.370 t/duration=0.000 9.23619e-01\n",
      "t1=027 t2=4444, t2_R=1.639e+09, R2=5.38279e+16 t/t_ref=163.852 t/t_exp=163.852 t/duration=0.000 8.77896e-01\n",
      "t1=027 t2=4999, t2_R=1.843e+09, R2=5.99619e+16 t/t_ref=184.333 t/t_exp=184.333 t/duration=0.000 8.33717e-01\n",
      "----------------------------------------------\n",
      "ID 1\n",
      "beta_exp 0.001885\n",
      "delta_t  est. 1.139268e+03 (d)\n",
      "t_dec  est. 1.023527e+03 (d)\n",
      "delta_t  est. 9.843273e+07 (s)\n",
      "t_dec  est. 8.843274e+07 (s)\n",
      "duration 9.827601e+08\n",
      "T_SIZE 982760\n",
      "NUM_SET 5000\n",
      "==> par: z_cosm from model: jet_leptonicacc_region linked to same parameter in model jet_leptonic\n",
      "temporal evolution running\n"
     ]
    },
    {
     "data": {
      "application/vnd.jupyter.widget-view+json": {
       "model_id": "847103f93160440a895d1f59e12b7349",
       "version_major": 2,
       "version_minor": 0
      },
      "text/plain": [
       "  0%|          | 0/982760 [00:00<?, ?it/s]"
      ]
     },
     "metadata": {},
     "output_type": "display_data"
    },
    {
     "name": "stdout",
     "output_type": "stream",
     "text": [
      "temporal evolution completed\n",
      "caching SED for each saved distribution: start\n"
     ]
    },
    {
     "data": {
      "application/vnd.jupyter.widget-view+json": {
       "model_id": "2018354a0f6c47fab6002d9ef0f1aac5",
       "version_major": 2,
       "version_minor": 0
      },
      "text/plain": [
       "  0%|          | 0/5000 [00:00<?, ?it/s]"
      ]
     },
     "metadata": {},
     "output_type": "display_data"
    },
    {
     "name": "stdout",
     "output_type": "stream",
     "text": [
      "caching SED for each saved distribution: done\n",
      "t1=050 t2=000, t2_R=0.000e+00, R2=5.00000e+15 t/t_ref=0.000 t/t_exp=0.000 t/duration=0.000 1.00003e+00\n",
      "t1=050 t2=555, t2_R=1.093e+08, R2=1.06096e+16 t/t_ref=10.920 t/t_exp=10.920 t/duration=0.000 1.00004e+00\n",
      "t1=050 t2=1111, t2_R=2.186e+08, R2=1.67842e+16 t/t_ref=21.839 t/t_exp=21.839 t/duration=0.000 1.00004e+00\n",
      "t1=050 t2=1666, t2_R=3.277e+08, R2=2.29477e+16 t/t_ref=32.759 t/t_exp=32.759 t/duration=0.000 9.99911e-01\n",
      "t1=050 t2=2222, t2_R=4.369e+08, R2=2.91223e+16 t/t_ref=43.678 t/t_exp=43.678 t/duration=0.000 9.98488e-01\n",
      "t1=050 t2=2777, t2_R=5.460e+08, R2=3.52858e+16 t/t_ref=54.598 t/t_exp=54.598 t/duration=0.000 9.90556e-01\n",
      "t1=050 t2=3333, t2_R=6.553e+08, R2=4.14604e+16 t/t_ref=65.517 t/t_exp=65.517 t/duration=0.000 9.67876e-01\n",
      "t1=050 t2=3888, t2_R=7.644e+08, R2=4.76239e+16 t/t_ref=76.437 t/t_exp=76.437 t/duration=0.000 9.30451e-01\n",
      "t1=050 t2=4444, t2_R=8.737e+08, R2=5.37985e+16 t/t_ref=87.356 t/t_exp=87.356 t/duration=0.000 8.86457e-01\n",
      "t1=050 t2=4999, t2_R=9.828e+08, R2=5.99619e+16 t/t_ref=98.276 t/t_exp=98.276 t/duration=0.000 8.43288e-01\n",
      "----------------------------------------------\n",
      "ID 2\n",
      "beta_exp 0.003552\n",
      "delta_t  est. 6.588205e+02 (d)\n",
      "t_dec  est. 5.430798e+02 (d)\n",
      "delta_t  est. 5.692209e+07 (s)\n",
      "t_dec  est. 4.692209e+07 (s)\n",
      "duration 5.261430e+08\n",
      "T_SIZE 526143\n",
      "NUM_SET 5000\n",
      "==> par: z_cosm from model: jet_leptonicacc_region linked to same parameter in model jet_leptonic\n",
      "temporal evolution running\n"
     ]
    },
    {
     "data": {
      "application/vnd.jupyter.widget-view+json": {
       "model_id": "9c8889a0685a43169c93ca366025001e",
       "version_major": 2,
       "version_minor": 0
      },
      "text/plain": [
       "  0%|          | 0/526143 [00:00<?, ?it/s]"
      ]
     },
     "metadata": {},
     "output_type": "display_data"
    },
    {
     "name": "stdout",
     "output_type": "stream",
     "text": [
      "temporal evolution completed\n",
      "caching SED for each saved distribution: start\n"
     ]
    },
    {
     "data": {
      "application/vnd.jupyter.widget-view+json": {
       "model_id": "0e8d66b8874b48969e70e3725ddb9e04",
       "version_major": 2,
       "version_minor": 0
      },
      "text/plain": [
       "  0%|          | 0/5000 [00:00<?, ?it/s]"
      ]
     },
     "metadata": {},
     "output_type": "display_data"
    },
    {
     "name": "stdout",
     "output_type": "stream",
     "text": [
      "caching SED for each saved distribution: done\n",
      "t1=095 t2=000, t2_R=0.000e+00, R2=5.00000e+15 t/t_ref=0.000 t/t_exp=0.000 t/duration=0.000 1.00006e+00\n",
      "t1=095 t2=555, t2_R=5.851e+07, R2=1.01654e+16 t/t_ref=5.846 t/t_exp=5.846 t/duration=0.000 1.00006e+00\n",
      "t1=095 t2=1111, t2_R=1.170e+08, R2=1.63956e+16 t/t_ref=11.692 t/t_exp=11.692 t/duration=0.000 1.00008e+00\n",
      "t1=095 t2=1666, t2_R=1.754e+08, R2=2.26146e+16 t/t_ref=17.538 t/t_exp=17.538 t/duration=0.000 9.99983e-01\n",
      "t1=095 t2=2222, t2_R=2.339e+08, R2=2.88447e+16 t/t_ref=23.384 t/t_exp=23.384 t/duration=0.000 9.98768e-01\n",
      "t1=095 t2=2777, t2_R=2.923e+08, R2=3.50637e+16 t/t_ref=29.230 t/t_exp=29.230 t/duration=0.000 9.91704e-01\n",
      "t1=095 t2=3333, t2_R=3.508e+08, R2=4.12939e+16 t/t_ref=35.076 t/t_exp=35.076 t/duration=0.000 9.70577e-01\n",
      "t1=095 t2=3888, t2_R=4.092e+08, R2=4.75129e+16 t/t_ref=40.922 t/t_exp=40.922 t/duration=0.000 9.34497e-01\n",
      "t1=095 t2=4444, t2_R=4.677e+08, R2=5.37431e+16 t/t_ref=46.768 t/t_exp=46.768 t/duration=0.000 8.91213e-01\n",
      "t1=095 t2=4999, t2_R=5.261e+08, R2=5.99618e+16 t/t_ref=52.614 t/t_exp=52.614 t/duration=0.000 8.48324e-01\n",
      "----------------------------------------------\n",
      "ID 3\n",
      "beta_exp 0.006694\n",
      "delta_t  est. 4.038969e+02 (d)\n",
      "t_dec  est. 2.881562e+02 (d)\n",
      "delta_t  est. 3.489669e+07 (s)\n",
      "t_dec  est. 2.489669e+07 (s)\n",
      "duration 2.838636e+08\n",
      "T_SIZE 283863\n",
      "NUM_SET 5000\n",
      "==> par: z_cosm from model: jet_leptonicacc_region linked to same parameter in model jet_leptonic\n",
      "temporal evolution running\n"
     ]
    },
    {
     "data": {
      "application/vnd.jupyter.widget-view+json": {
       "model_id": "15e59b48f2fc4b87a4f236e2fbfea149",
       "version_major": 2,
       "version_minor": 0
      },
      "text/plain": [
       "  0%|          | 0/283863 [00:00<?, ?it/s]"
      ]
     },
     "metadata": {},
     "output_type": "display_data"
    },
    {
     "name": "stdout",
     "output_type": "stream",
     "text": [
      "temporal evolution completed\n",
      "caching SED for each saved distribution: start\n"
     ]
    },
    {
     "data": {
      "application/vnd.jupyter.widget-view+json": {
       "model_id": "1831eaa9e6354d8281d8c68951fa478c",
       "version_major": 2,
       "version_minor": 0
      },
      "text/plain": [
       "  0%|          | 0/5000 [00:00<?, ?it/s]"
      ]
     },
     "metadata": {},
     "output_type": "display_data"
    },
    {
     "name": "stdout",
     "output_type": "stream",
     "text": [
      "caching SED for each saved distribution: done\n",
      "t1=176 t2=000, t2_R=0.000e+00, R2=5.00000e+15 t/t_ref=0.000 t/t_exp=0.000 t/duration=0.000 1.00012e+00\n",
      "t1=176 t2=555, t2_R=3.157e+07, R2=9.32812e+15 t/t_ref=3.154 t/t_exp=3.154 t/duration=0.000 1.00011e+00\n",
      "t1=176 t2=1111, t2_R=6.313e+07, R2=1.56631e+16 t/t_ref=6.308 t/t_exp=6.308 t/duration=0.000 1.00016e+00\n",
      "t1=176 t2=1666, t2_R=9.464e+07, R2=2.19865e+16 t/t_ref=9.462 t/t_exp=9.462 t/duration=0.000 1.00010e+00\n",
      "t1=176 t2=2222, t2_R=1.262e+08, R2=2.83215e+16 t/t_ref=12.616 t/t_exp=12.616 t/duration=0.000 9.99119e-01\n",
      "t1=176 t2=2777, t2_R=1.577e+08, R2=3.46451e+16 t/t_ref=15.770 t/t_exp=15.770 t/duration=0.000 9.92907e-01\n",
      "t1=176 t2=3333, t2_R=1.893e+08, R2=4.09800e+16 t/t_ref=18.924 t/t_exp=18.924 t/duration=0.000 9.73033e-01\n",
      "t1=176 t2=3888, t2_R=2.208e+08, R2=4.73035e+16 t/t_ref=22.078 t/t_exp=22.078 t/duration=0.000 9.37637e-01\n",
      "t1=176 t2=4444, t2_R=2.524e+08, R2=5.36386e+16 t/t_ref=25.232 t/t_exp=25.232 t/duration=0.000 8.94300e-01\n",
      "t1=176 t2=4999, t2_R=2.839e+08, R2=5.99618e+16 t/t_ref=28.386 t/t_exp=28.386 t/duration=0.000 8.51049e-01\n",
      "----------------------------------------------\n",
      "ID 4\n",
      "beta_exp 0.012617\n",
      "delta_t  est. 2.686354e+02 (d)\n",
      "t_dec  est. 1.528946e+02 (d)\n",
      "delta_t  est. 2.321010e+07 (s)\n",
      "t_dec  est. 1.321010e+07 (s)\n",
      "duration 1.553111e+08\n",
      "T_SIZE 155311\n",
      "NUM_SET 5000\n",
      "==> par: z_cosm from model: jet_leptonicacc_region linked to same parameter in model jet_leptonic\n",
      "temporal evolution running\n"
     ]
    },
    {
     "data": {
      "application/vnd.jupyter.widget-view+json": {
       "model_id": "5b1184a6e4a1480a9d09e1583c961ad5",
       "version_major": 2,
       "version_minor": 0
      },
      "text/plain": [
       "  0%|          | 0/155311 [00:00<?, ?it/s]"
      ]
     },
     "metadata": {},
     "output_type": "display_data"
    },
    {
     "name": "stdout",
     "output_type": "stream",
     "text": [
      "temporal evolution completed\n",
      "caching SED for each saved distribution: start\n"
     ]
    },
    {
     "data": {
      "application/vnd.jupyter.widget-view+json": {
       "model_id": "3a33191818bb435187273455cf6fb3ae",
       "version_major": 2,
       "version_minor": 0
      },
      "text/plain": [
       "  0%|          | 0/5000 [00:00<?, ?it/s]"
      ]
     },
     "metadata": {},
     "output_type": "display_data"
    },
    {
     "name": "stdout",
     "output_type": "stream",
     "text": [
      "caching SED for each saved distribution: done\n",
      "t1=321 t2=000, t2_R=0.000e+00, R2=5.00000e+15 t/t_ref=0.000 t/t_exp=0.000 t/duration=0.000 1.00023e+00\n",
      "t1=321 t2=555, t2_R=1.727e+07, R2=7.75016e+15 t/t_ref=1.726 t/t_exp=1.726 t/duration=0.000 1.00016e+00\n",
      "t1=321 t2=1111, t2_R=3.454e+07, R2=1.42827e+16 t/t_ref=3.451 t/t_exp=3.451 t/duration=0.000 1.00029e+00\n",
      "t1=321 t2=1666, t2_R=5.178e+07, R2=2.08031e+16 t/t_ref=5.177 t/t_exp=5.177 t/duration=0.000 1.00030e+00\n",
      "t1=321 t2=2222, t2_R=6.905e+07, R2=2.73356e+16 t/t_ref=6.903 t/t_exp=6.903 t/duration=0.000 9.99624e-01\n",
      "t1=321 t2=2777, t2_R=8.629e+07, R2=3.38561e+16 t/t_ref=8.628 t/t_exp=8.628 t/duration=0.000 9.94552e-01\n",
      "t1=321 t2=3333, t2_R=1.036e+08, R2=4.03886e+16 t/t_ref=10.354 t/t_exp=10.354 t/duration=0.000 9.76222e-01\n",
      "t1=321 t2=3888, t2_R=1.208e+08, R2=4.69090e+16 t/t_ref=12.080 t/t_exp=12.080 t/duration=0.000 9.41210e-01\n",
      "t1=321 t2=4444, t2_R=1.381e+08, R2=5.34415e+16 t/t_ref=13.805 t/t_exp=13.805 t/duration=0.000 8.97049e-01\n",
      "t1=321 t2=4999, t2_R=1.553e+08, R2=5.99616e+16 t/t_ref=15.531 t/t_exp=15.531 t/duration=0.000 8.52629e-01\n",
      "----------------------------------------------\n",
      "ID 5\n",
      "beta_exp 0.023778\n",
      "delta_t  est. 1.968661e+02 (d)\n",
      "t_dec  est. 8.112535e+01 (d)\n",
      "delta_t  est. 1.700923e+07 (s)\n",
      "t_dec  est. 7.009230e+06 (s)\n",
      "duration 8.710153e+07\n",
      "T_SIZE 87101\n",
      "NUM_SET 5000\n",
      "==> par: z_cosm from model: jet_leptonicacc_region linked to same parameter in model jet_leptonic\n",
      "temporal evolution running\n"
     ]
    },
    {
     "data": {
      "application/vnd.jupyter.widget-view+json": {
       "model_id": "ff607f71589e4b8f8adb41d9888c62c8",
       "version_major": 2,
       "version_minor": 0
      },
      "text/plain": [
       "  0%|          | 0/87101 [00:00<?, ?it/s]"
      ]
     },
     "metadata": {},
     "output_type": "display_data"
    },
    {
     "name": "stdout",
     "output_type": "stream",
     "text": [
      "temporal evolution completed\n",
      "caching SED for each saved distribution: start\n"
     ]
    },
    {
     "data": {
      "application/vnd.jupyter.widget-view+json": {
       "model_id": "fddc87f22b5342828686c83367196a75",
       "version_major": 2,
       "version_minor": 0
      },
      "text/plain": [
       "  0%|          | 0/5000 [00:00<?, ?it/s]"
      ]
     },
     "metadata": {},
     "output_type": "display_data"
    },
    {
     "name": "stdout",
     "output_type": "stream",
     "text": [
      "caching SED for each saved distribution: done\n",
      "t1=574 t2=000, t2_R=0.000e+00, R2=5.00000e+15 t/t_ref=0.000 t/t_exp=0.000 t/duration=0.000 1.00040e+00\n",
      "t1=574 t2=555, t2_R=9.686e+06, R2=5.00000e+15 t/t_ref=0.968 t/t_exp=0.968 t/duration=0.000 1.00040e+00\n",
      "t1=574 t2=1111, t2_R=1.937e+07, R2=1.16809e+16 t/t_ref=1.936 t/t_exp=1.936 t/duration=0.000 1.00049e+00\n",
      "t1=574 t2=1666, t2_R=2.904e+07, R2=1.85728e+16 t/t_ref=2.903 t/t_exp=2.903 t/duration=0.000 1.00061e+00\n",
      "t1=574 t2=2222, t2_R=3.873e+07, R2=2.54775e+16 t/t_ref=3.871 t/t_exp=3.871 t/duration=0.000 1.00032e+00\n",
      "t1=574 t2=2777, t2_R=4.839e+07, R2=3.23694e+16 t/t_ref=4.839 t/t_exp=4.839 t/duration=0.000 9.96892e-01\n",
      "t1=574 t2=3333, t2_R=5.808e+07, R2=3.92734e+16 t/t_ref=5.807 t/t_exp=5.807 t/duration=0.000 9.81140e-01\n",
      "t1=574 t2=3888, t2_R=6.775e+07, R2=4.61661e+16 t/t_ref=6.775 t/t_exp=6.775 t/duration=0.000 9.46629e-01\n",
      "t1=574 t2=4444, t2_R=7.743e+07, R2=5.30701e+16 t/t_ref=7.742 t/t_exp=7.742 t/duration=0.000 9.00615e-01\n",
      "t1=574 t2=4999, t2_R=8.710e+07, R2=5.99612e+16 t/t_ref=8.710 t/t_exp=8.710 t/duration=0.000 8.53736e-01\n",
      "----------------------------------------------\n",
      "ID 6\n",
      "beta_exp 0.044814\n",
      "delta_t  est. 1.587856e+02 (d)\n",
      "t_dec  est. 4.304483e+01 (d)\n",
      "delta_t  est. 1.371907e+07 (s)\n",
      "t_dec  est. 3.719073e+06 (s)\n",
      "duration 5.090980e+07\n",
      "T_SIZE 50909\n",
      "NUM_SET 5000\n",
      "==> par: z_cosm from model: jet_leptonicacc_region linked to same parameter in model jet_leptonic\n",
      "temporal evolution running\n"
     ]
    },
    {
     "data": {
      "application/vnd.jupyter.widget-view+json": {
       "model_id": "7fd3484b799d42a5aeee57f7504b38ee",
       "version_major": 2,
       "version_minor": 0
      },
      "text/plain": [
       "  0%|          | 0/50909 [00:00<?, ?it/s]"
      ]
     },
     "metadata": {},
     "output_type": "display_data"
    },
    {
     "name": "stdout",
     "output_type": "stream",
     "text": [
      "temporal evolution completed\n",
      "caching SED for each saved distribution: start\n"
     ]
    },
    {
     "data": {
      "application/vnd.jupyter.widget-view+json": {
       "model_id": "198130f4fd3148fd843551bd406d7739",
       "version_major": 2,
       "version_minor": 0
      },
      "text/plain": [
       "  0%|          | 0/5000 [00:00<?, ?it/s]"
      ]
     },
     "metadata": {},
     "output_type": "display_data"
    },
    {
     "name": "stdout",
     "output_type": "stream",
     "text": [
      "caching SED for each saved distribution: done\n",
      "t1=982 t2=000, t2_R=0.000e+00, R2=5.00000e+15 t/t_ref=0.000 t/t_exp=0.000 t/duration=0.000 1.00068e+00\n",
      "t1=982 t2=555, t2_R=5.662e+06, R2=5.00000e+15 t/t_ref=0.566 t/t_exp=0.566 t/duration=0.000 1.00068e+00\n",
      "t1=982 t2=1111, t2_R=1.132e+07, R2=6.77768e+15 t/t_ref=1.131 t/t_exp=1.131 t/duration=0.000 1.00042e+00\n",
      "t1=982 t2=1666, t2_R=1.697e+07, R2=1.43699e+16 t/t_ref=1.697 t/t_exp=1.697 t/duration=0.000 1.00105e+00\n",
      "t1=982 t2=2222, t2_R=2.264e+07, R2=2.19755e+16 t/t_ref=2.263 t/t_exp=2.263 t/duration=0.000 1.00116e+00\n",
      "t1=982 t2=2777, t2_R=2.829e+07, R2=2.95677e+16 t/t_ref=2.828 t/t_exp=2.828 t/duration=0.000 9.99732e-01\n",
      "t1=982 t2=3333, t2_R=3.395e+07, R2=3.71733e+16 t/t_ref=3.394 t/t_exp=3.394 t/duration=0.000 9.88601e-01\n",
      "t1=982 t2=3888, t2_R=3.960e+07, R2=4.47655e+16 t/t_ref=3.960 t/t_exp=3.960 t/duration=0.000 9.55820e-01\n",
      "t1=982 t2=4444, t2_R=4.526e+07, R2=5.23711e+16 t/t_ref=4.525 t/t_exp=4.525 t/duration=0.000 9.06475e-01\n",
      "t1=982 t2=4999, t2_R=5.091e+07, R2=5.99606e+16 t/t_ref=5.091 t/t_exp=5.091 t/duration=0.000 8.54838e-01\n",
      "----------------------------------------------\n",
      "ID 7\n",
      "beta_exp 0.084460\n",
      "delta_t  est. 1.385802e+02 (d)\n",
      "t_dec  est. 2.283944e+01 (d)\n",
      "delta_t  est. 1.197333e+07 (s)\n",
      "t_dec  est. 1.973327e+06 (s)\n",
      "duration 3.170660e+07\n",
      "T_SIZE 31706\n",
      "NUM_SET 5000\n",
      "==> par: z_cosm from model: jet_leptonicacc_region linked to same parameter in model jet_leptonic\n",
      "temporal evolution running\n"
     ]
    },
    {
     "data": {
      "application/vnd.jupyter.widget-view+json": {
       "model_id": "121e4e6274434f028285cb8c44622af2",
       "version_major": 2,
       "version_minor": 0
      },
      "text/plain": [
       "  0%|          | 0/31706 [00:00<?, ?it/s]"
      ]
     },
     "metadata": {},
     "output_type": "display_data"
    },
    {
     "name": "stdout",
     "output_type": "stream",
     "text": [
      "temporal evolution completed\n",
      "caching SED for each saved distribution: start\n"
     ]
    },
    {
     "data": {
      "application/vnd.jupyter.widget-view+json": {
       "model_id": "c6e42991014b4794bdbdfa53fcb5c868",
       "version_major": 2,
       "version_minor": 0
      },
      "text/plain": [
       "  0%|          | 0/5000 [00:00<?, ?it/s]"
      ]
     },
     "metadata": {},
     "output_type": "display_data"
    },
    {
     "name": "stdout",
     "output_type": "stream",
     "text": [
      "caching SED for each saved distribution: done\n",
      "t1=1576 t2=000, t2_R=0.000e+00, R2=5.00000e+15 t/t_ref=0.000 t/t_exp=0.000 t/duration=0.000 1.00123e+00\n",
      "t1=1576 t2=555, t2_R=3.526e+06, R2=5.00000e+15 t/t_ref=0.352 t/t_exp=0.352 t/duration=0.000 1.00123e+00\n",
      "t1=1576 t2=1111, t2_R=7.052e+06, R2=5.00000e+15 t/t_ref=0.705 t/t_exp=0.705 t/duration=0.000 1.00123e+00\n",
      "t1=1576 t2=1666, t2_R=1.057e+07, R2=6.44630e+15 t/t_ref=1.057 t/t_exp=1.057 t/duration=0.000 1.00068e+00\n",
      "t1=1576 t2=2222, t2_R=1.410e+07, R2=1.53744e+16 t/t_ref=1.409 t/t_exp=1.409 t/duration=0.000 1.00205e+00\n",
      "t1=1576 t2=2777, t2_R=1.762e+07, R2=2.42849e+16 t/t_ref=1.761 t/t_exp=1.761 t/duration=0.000 1.00218e+00\n",
      "t1=1576 t2=3333, t2_R=2.114e+07, R2=3.32130e+16 t/t_ref=2.114 t/t_exp=2.114 t/duration=0.000 9.97734e-01\n",
      "t1=1576 t2=3888, t2_R=2.466e+07, R2=4.21234e+16 t/t_ref=2.466 t/t_exp=2.466 t/duration=0.000 9.71114e-01\n",
      "t1=1576 t2=4444, t2_R=2.819e+07, R2=5.10516e+16 t/t_ref=2.818 t/t_exp=2.818 t/duration=0.000 9.17028e-01\n",
      "t1=1576 t2=4999, t2_R=3.171e+07, R2=5.99594e+16 t/t_ref=3.171 t/t_exp=3.171 t/duration=0.000 8.56391e-01\n",
      "----------------------------------------------\n",
      "ID 8\n",
      "beta_exp 0.159179\n",
      "delta_t  est. 1.278593e+02 (d)\n",
      "t_dec  est. 1.211853e+01 (d)\n",
      "delta_t  est. 1.104704e+07 (s)\n",
      "t_dec  est. 1.047041e+06 (s)\n",
      "duration 2.151745e+07\n",
      "T_SIZE 21517\n",
      "NUM_SET 5000\n",
      "==> par: z_cosm from model: jet_leptonicacc_region linked to same parameter in model jet_leptonic\n",
      "temporal evolution running\n"
     ]
    },
    {
     "data": {
      "application/vnd.jupyter.widget-view+json": {
       "model_id": "12950573eef94b45ae76f19b79221a37",
       "version_major": 2,
       "version_minor": 0
      },
      "text/plain": [
       "  0%|          | 0/21517 [00:00<?, ?it/s]"
      ]
     },
     "metadata": {},
     "output_type": "display_data"
    },
    {
     "name": "stdout",
     "output_type": "stream",
     "text": [
      "temporal evolution completed\n",
      "caching SED for each saved distribution: start\n"
     ]
    },
    {
     "data": {
      "application/vnd.jupyter.widget-view+json": {
       "model_id": "e28cfad32dde49a7917815ab44781ed3",
       "version_major": 2,
       "version_minor": 0
      },
      "text/plain": [
       "  0%|          | 0/5000 [00:00<?, ?it/s]"
      ]
     },
     "metadata": {},
     "output_type": "display_data"
    },
    {
     "name": "stdout",
     "output_type": "stream",
     "text": [
      "caching SED for each saved distribution: done\n",
      "t1=2323 t2=000, t2_R=0.000e+00, R2=5.00000e+15 t/t_ref=0.000 t/t_exp=0.000 t/duration=0.000 1.00225e+00\n",
      "t1=2323 t2=555, t2_R=2.393e+06, R2=5.00000e+15 t/t_ref=0.239 t/t_exp=0.239 t/duration=0.000 1.00225e+00\n",
      "t1=2323 t2=1111, t2_R=4.786e+06, R2=5.00000e+15 t/t_ref=0.478 t/t_exp=0.478 t/duration=0.000 1.00225e+00\n",
      "t1=2323 t2=1666, t2_R=7.174e+06, R2=5.00000e+15 t/t_ref=0.717 t/t_exp=0.717 t/duration=0.000 1.00225e+00\n",
      "t1=2323 t2=2222, t2_R=9.567e+06, R2=5.00000e+15 t/t_ref=0.956 t/t_exp=0.956 t/duration=0.000 1.00225e+00\n",
      "t1=2323 t2=2777, t2_R=1.196e+07, R2=1.43306e+16 t/t_ref=1.195 t/t_exp=1.195 t/duration=0.000 1.00372e+00\n",
      "t1=2323 t2=3333, t2_R=1.435e+07, R2=2.57504e+16 t/t_ref=1.434 t/t_exp=1.434 t/duration=0.000 1.00419e+00\n",
      "t1=2323 t2=3888, t2_R=1.674e+07, R2=3.71463e+16 t/t_ref=1.674 t/t_exp=1.674 t/duration=0.000 9.92203e-01\n",
      "t1=2323 t2=4444, t2_R=1.913e+07, R2=4.85661e+16 t/t_ref=1.913 t/t_exp=1.913 t/duration=0.000 9.36225e-01\n",
      "t1=2323 t2=4999, t2_R=2.152e+07, R2=5.99572e+16 t/t_ref=2.152 t/t_exp=2.152 t/duration=0.000 8.59030e-01\n",
      "----------------------------------------------\n",
      "ID 9\n",
      "beta_exp 0.300000\n",
      "delta_t  est. 1.221708e+02 (d)\n",
      "t_dec  est. 6.430053e+00 (d)\n",
      "delta_t  est. 1.055556e+07 (s)\n",
      "t_dec  est. 5.555566e+05 (s)\n",
      "duration 1.611112e+07\n",
      "T_SIZE 16111\n",
      "NUM_SET 5000\n",
      "==> par: z_cosm from model: jet_leptonicacc_region linked to same parameter in model jet_leptonic\n",
      "temporal evolution running\n"
     ]
    },
    {
     "data": {
      "application/vnd.jupyter.widget-view+json": {
       "model_id": "421c874960014947a2f659f7c9a41890",
       "version_major": 2,
       "version_minor": 0
      },
      "text/plain": [
       "  0%|          | 0/16111 [00:00<?, ?it/s]"
      ]
     },
     "metadata": {},
     "output_type": "display_data"
    },
    {
     "name": "stdout",
     "output_type": "stream",
     "text": [
      "temporal evolution completed\n",
      "caching SED for each saved distribution: start\n"
     ]
    },
    {
     "data": {
      "application/vnd.jupyter.widget-view+json": {
       "model_id": "490fdeb627ac4672b49de9caa4770a28",
       "version_major": 2,
       "version_minor": 0
      },
      "text/plain": [
       "  0%|          | 0/5000 [00:00<?, ?it/s]"
      ]
     },
     "metadata": {},
     "output_type": "display_data"
    },
    {
     "name": "stdout",
     "output_type": "stream",
     "text": [
      "caching SED for each saved distribution: done\n",
      "t1=3103 t2=000, t2_R=0.000e+00, R2=5.00000e+15 t/t_ref=0.000 t/t_exp=0.000 t/duration=0.000 1.00495e+00\n",
      "t1=3103 t2=555, t2_R=1.792e+06, R2=5.00000e+15 t/t_ref=0.179 t/t_exp=0.179 t/duration=0.000 1.00495e+00\n",
      "t1=3103 t2=1111, t2_R=3.584e+06, R2=5.00000e+15 t/t_ref=0.358 t/t_exp=0.358 t/duration=0.000 1.00495e+00\n",
      "t1=3103 t2=1666, t2_R=5.372e+06, R2=5.00000e+15 t/t_ref=0.537 t/t_exp=0.537 t/duration=0.000 1.00495e+00\n",
      "t1=3103 t2=2222, t2_R=7.163e+06, R2=5.00000e+15 t/t_ref=0.716 t/t_exp=0.716 t/duration=0.000 1.00495e+00\n",
      "t1=3103 t2=2777, t2_R=8.952e+06, R2=5.00000e+15 t/t_ref=0.895 t/t_exp=0.895 t/duration=0.000 1.00495e+00\n",
      "t1=3103 t2=3333, t2_R=1.074e+07, R2=1.16831e+16 t/t_ref=1.074 t/t_exp=1.074 t/duration=0.000 1.00613e+00\n",
      "t1=3103 t2=3888, t2_R=1.253e+07, R2=2.77731e+16 t/t_ref=1.253 t/t_exp=1.253 t/duration=0.000 1.00793e+00\n",
      "t1=3103 t2=4444, t2_R=1.432e+07, R2=4.38811e+16 t/t_ref=1.432 t/t_exp=1.432 t/duration=0.000 9.68928e-01\n",
      "t1=3103 t2=4999, t2_R=1.611e+07, R2=5.99530e+16 t/t_ref=1.611 t/t_exp=1.611 t/duration=0.000 8.63757e-01\n",
      "----------------------------------------------\n"
     ]
    }
   ],
   "source": [
    "run=True\n",
    "\n",
    "for ID,v in enumerate(beta_exp):\n",
    "    duration=delta_t_est(t_exp,R0,v)+10*t_dec_est(R0,-1,v)\n",
    "    T_SIZE=np.int(duration/1000)\n",
    "    NUM_SET=np.int(T_SIZE)\n",
    "    NUM_SET=min(5000,NUM_SET)\n",
    "    NUM_SET=max(1000,NUM_SET)\n",
    "    print('ID',ID)\n",
    "    print('beta_exp %f'%v)\n",
    "    print('delta_t  est. %e (d)'%(delta_t_est(t_exp,R0,v)/86400))\n",
    "    print('t_dec  est. %e (d)'%(t_dec_est(R0,-1,v)/86400))\n",
    "    print('delta_t  est. %e (s)'%(delta_t_est(t_exp,R0,v)))\n",
    "    print('t_dec  est. %e (s)'%(t_dec_est(R0,-1,v)))\n",
    "    print('duration %e'%duration)\n",
    "    print('T_SIZE %d'%T_SIZE)\n",
    "    print('NUM_SET %d'%NUM_SET)\n",
    "    run_adiabatic_exp(sed_data,\n",
    "                      fit_model,\n",
    "                      'temp_ev_sim_exp_change_beta',\n",
    "                      temp_ev_acc_flare,\n",
    "                      flare_duration=0,\n",
    "                      duration=duration,\n",
    "                      delta_t_out=delta_t_out,\n",
    "                      T_esc_rad=1E60,\n",
    "                      rest_frame=rest_frame,\n",
    "                      T_SIZE=T_SIZE,\n",
    "                      NUM_SET=NUM_SET,\n",
    "                      run=run,\n",
    "                      beta_exp=v,\n",
    "                      t_exp=t_exp)\n",
    "    \n",
    "   \n",
    "    print('----------------------------------------------')"
   ]
  },
  {
   "cell_type": "code",
   "execution_count": 16,
   "metadata": {},
   "outputs": [
    {
     "data": {
      "image/png": "[encoded data removed]",
      "text/plain": [
       "<Figure size 864x432 with 2 Axes>"
      ]
     },
     "execution_count": 16,
     "metadata": {},
     "output_type": "execute_result"
    },
    {
     "data": {
      "image/png": "[encoded data removed]",
      "text/plain": [
       "<Figure size 864x432 with 2 Axes>"
      ]
     },
     "metadata": {
      "needs_background": "light"
     },
     "output_type": "display_data"
    }
   ],
   "source": [
    "from expansion_tools.delay_analysis import plot_lcs\n",
    "\n",
    "plot_lcs(exp_lcs='temp_ev_sim_exp_change_beta/lc_obs_beta_exp=0.300.pkl',lcs_names=['lg_obs','lr_obs_30GHz'],flare_lcs=None)\n"
   ]
  },
  {
   "cell_type": "code",
   "execution_count": null,
   "metadata": {},
   "outputs": [],
   "source": []
  }
 ],
 "metadata": {
  "kernelspec": {
   "display_name": "Python 3",
   "language": "python",
   "name": "python3"
  },
  "language_info": {
   "codemirror_mode": {
    "name": "ipython",
    "version": 3
   },
   "file_extension": ".py",
   "mimetype": "text/x-python",
   "name": "python",
   "nbconvert_exporter": "python",
   "pygments_lexer": "ipython3",
   "version": "3.8.2"
  }
 },
 "nbformat": 4,
 "nbformat_minor": 4
}
