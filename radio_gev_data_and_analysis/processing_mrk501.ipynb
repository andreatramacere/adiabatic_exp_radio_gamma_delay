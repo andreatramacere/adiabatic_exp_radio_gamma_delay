{
 "cells": [
  {
   "cell_type": "code",
   "execution_count": 6,
   "metadata": {},
   "outputs": [
    {
     "name": "stdout",
     "output_type": "stream",
     "text": [
      "The autoreload extension is already loaded. To reload it, use:\n",
      "  %reload_ext autoreload\n"
     ]
    }
   ],
   "source": [
    "%load_ext autoreload\n",
    "%autoreload 2\n",
    "\n",
    "from IPython.display import clear_output"
   ]
  },
  {
   "cell_type": "code",
   "execution_count": 7,
   "metadata": {},
   "outputs": [],
   "source": [
    "%reload_ext autoreload"
   ]
  },
  {
   "cell_type": "code",
   "execution_count": 8,
   "metadata": {},
   "outputs": [],
   "source": [
    "import numpy as np\n",
    "import scipy"
   ]
  },
  {
   "cell_type": "code",
   "execution_count": 9,
   "metadata": {},
   "outputs": [],
   "source": [
    "from libs.plotting import plot_lcs\n",
    "from astropy.table import Table"
   ]
  },
  {
   "cell_type": "markdown",
   "metadata": {},
   "source": [
    "### Load data"
   ]
  },
  {
   "cell_type": "code",
   "execution_count": 10,
   "metadata": {},
   "outputs": [],
   "source": [
    "from dataset import radio_mrk501, gev_mrk501, coincidence_mask_mrk501\n",
    "\n",
    "from dataset import radio_mrk501_orig\n",
    "\n",
    "from dataset import coincidence_checker\n",
    "import matplotlib.pyplot as plt"
   ]
  },
  {
   "cell_type": "markdown",
   "metadata": {},
   "source": [
    "### Define response profile and convolution routine"
   ]
  },
  {
   "cell_type": "code",
   "execution_count": 11,
   "metadata": {},
   "outputs": [],
   "source": [
    "def profile_st(x, Amp, t_rise, t_fall, t_shift):\n",
    "    t = x - t_shift\n",
    "    return Amp * np.exp(-t/t_fall) / (1 + np.exp(-t/t_rise))\n",
    "\n",
    "def convolve_arrays_sigma(v1, v2, dv1):\n",
    "    v1, v2, dv1 = np.array(v1), np.array(v2), np.array(dv1)\n",
    "    r = np.convolve(v1, v2)\n",
    "    dr2 = np.convolve(dv1 ** 2, v2 ** 2)\n",
    "    return r, np.sqrt(dr2)"
   ]
  },
  {
   "cell_type": "markdown",
   "metadata": {},
   "source": [
    "### Define fit configuration and fitting routines"
   ]
  },
  {
   "cell_type": "code",
   "execution_count": 12,
   "metadata": {
    "lines_to_next_cell": 0
   },
   "outputs": [],
   "source": [
    "def prepare_fit(s_data_ds, r_data_ds, bin_size, fit_roi, time_start=None, noplot=False):\n",
    "    s_data = s_data_ds\n",
    "    r_data = r_data_ds\n",
    "    \n",
    "    s_m, r_m = coincidence_checker(s_data, r_data, bin_size=bin_size)\n",
    "    \n",
    "    sd = Table({i:s_data_ds[i][s_m] for i in s_data_ds.columns})\n",
    "    sd.meta = s_data_ds.meta\n",
    "    for c in s_data_ds.columns:\n",
    "        sd[c].unit = s_data_ds[c].unit\n",
    "    \n",
    "    rd = Table({i:r_data_ds[i][r_m] for i in r_data_ds.columns})\n",
    "    rd.meta = r_data_ds.meta\n",
    "    for c in r_data_ds.columns:\n",
    "        rd[c].unit = r_data_ds[c].unit\n",
    "    \n",
    "    if not noplot:\n",
    "        plot_lcs(sd, rd, extra_data=[s_data_ds, r_data_ds], highlights=[None, fit_roi], figsize=(10, 6))\n",
    "    return s_data, r_data, s_m, r_m, bin_size, fit_roi, s_data_ds, r_data_ds, sd, rd\n",
    "\n",
    "\n",
    "def get_fit(params, \n",
    "            configuration, \n",
    "            profile_func, \n",
    "            t_shift=None, \n",
    "            const_flux_present=False, \n",
    "            all_uncertainties=False, \n",
    "            exclude_roi=[], \n",
    "            plot_data=False, \n",
    "            curvefit=False, \n",
    "            syn_delay=0, \n",
    "            result=False,  \n",
    "            ylims=None, \n",
    "            start_time=None, \n",
    "            highlight=None,\n",
    "            plot_timerange=None,\n",
    "            dst_data=None, \n",
    "            color='black',\n",
    "            extra_data=None,\n",
    "            extra_color='#1f77b4', #'#11265b',\n",
    "            filename='tmp.png',\n",
    "            flare_tuning = None,\n",
    "            background=None,\n",
    "            extra_plot=None,\n",
    "            get_dof = False,\n",
    "            plot_flares=False\n",
    "           ):\n",
    "    s_data, r_data, s_m, r_m, bin_size, fit_roi, s_data_ds, r_data_ds, sd, rd = configuration\n",
    "    s_t, s_f, s_df = s_data['tc'], s_data['f'], s_data['df']\n",
    "    r_t, r_f, r_df = r_data['tc'], r_data['f'], r_data['df']\n",
    "    \n",
    "    const_flux = 0\n",
    "    if const_flux_present:\n",
    "        const_flux = params[-1]\n",
    "        params = params[:-1]        \n",
    "    if t_shift is not None:\n",
    "        params = [*params] + [t_shift]\n",
    "    prof = profile_func(s_t - min(s_t), *params)\n",
    "    _params = [i for i in params]\n",
    "    A0 = params[0]\n",
    "    syn_t = s_t\n",
    "    syn_f = np.zeros_like(s_f)\n",
    "    syn_df = np.zeros_like(s_df)\n",
    "    if flare_tuning is None:\n",
    "        syn = convolve_arrays_sigma(s_f.copy(), prof, s_df)\n",
    "        syn_f = syn[0][:len(s_f)] + const_flux\n",
    "        syn_df = syn[1][:len(s_f)]\n",
    "    else:\n",
    "        fig = None\n",
    "        if plot_flares:\n",
    "            fig = plt.figure(figsize=(15,5))\n",
    "        for f in flare_tuning:\n",
    "            _time_range, amplitude = f\n",
    "            _tmp_s_f = np.zeros_like(s_f)\n",
    "            _tmp_s_df = np.zeros_like(s_df)\n",
    "            m = np.logical_and(syn_t > _time_range[0], syn_t <= _time_range[1])\n",
    "            _tmp_s_f[m] = s_f.copy()[m]\n",
    "            _tmp_s_df[m] = s_df.copy()[m]\n",
    "            _params[0] = A0 * amplitude\n",
    "            prof = profile_func(s_t - min(s_t), *_params)\n",
    "            syn = convolve_arrays_sigma(_tmp_s_f, prof, _tmp_s_df)\n",
    "            syn_f += syn[0][:len(s_f)]\n",
    "            syn_df += syn[1][:len(s_f)]**2\n",
    "            if plot_flares:\n",
    "                plt.plot(s_t, syn[0][:len(s_f)] + const_flux, '.', label=\"%s\" % _time_range)\n",
    "        syn_t = s_t   \n",
    "        if background is not None:\n",
    "            syn_f += background(s_t, const_flux)\n",
    "        else:\n",
    "            syn_f += const_flux\n",
    "        syn_df = 0*np.sqrt(syn_df)\n",
    "        if plot_flares:\n",
    "            plt.legend()\n",
    "            plt.show()\n",
    "        \n",
    "    roi_mask = np.logical_and(r_t[r_m] >= fit_roi[0], r_t[r_m] <= fit_roi[1])\n",
    "    \n",
    "    _r_t = r_t[r_m][roi_mask]\n",
    "    _r_f = r_f[r_m][roi_mask]\n",
    "    _r_df = r_df[r_m][roi_mask]\n",
    "    \n",
    "    _s_t = syn_t[s_m][roi_mask]\n",
    "    _s_f = syn_f[s_m][roi_mask]\n",
    "    _s_df = syn_df[s_m][roi_mask]\n",
    "    \n",
    "    if curvefit:\n",
    "        return np.column_stack([_r_t, _r_f, _r_df]), np.column_stack([_s_t, _s_f, _s_df])\n",
    "    \n",
    "    delta = _r_df\n",
    "    if all_uncertainties:\n",
    "        delta = np.sqrt(_r_df**2 + _s_df**2)\n",
    "    \n",
    "    xi = ((_s_f - _r_f)/delta)**2\n",
    "    xi_t = _s_t\n",
    "    for p in exclude_roi:\n",
    "        m = np.logical_and(xi_t >= p[0], xi_t <= p[1])\n",
    "        xi = xi[~m]\n",
    "        xi_t = xi_t[~m]\n",
    "    \n",
    "    dof = len(xi) - len(params) - (1 if const_flux_present else 0)\n",
    "    chi2 = np.sum(xi)\n",
    "    \n",
    "    if get_dof:\n",
    "        return chi2/dof, dof\n",
    "        \n",
    "    if not plot_data:\n",
    "        #clear_output(wait=True)\n",
    "        #display(\"chi2 = %s (%s), params = %s, delta_t = %s\" % (chi2, len(xi), np.array(params), t_shift))\n",
    "        return chi2/dof\n",
    "    else:\n",
    "        p = [i for i in params]\n",
    "        if const_flux_present:\n",
    "            p += [const_flux]\n",
    "            \n",
    "        print(\"chi2/dof = %s/%s = %s, params = %s, t_shift=%s\" % (chi2, dof, chi2/dof, str(p), t_shift))\n",
    "    \n",
    "\n",
    "        syn_full = Table({'tc' : syn_t + syn_delay, 'f' : syn_f, 'df' : syn_df})\n",
    "        syn_full.meta['title'] = \"Synthetic LC\"\n",
    "        syn_full.meta['f_units'] = \"Jy\"\n",
    "\n",
    "        sn = Table({'tc' : _s_t + syn_delay, 'f' : _s_f, 'df' : _s_df})\n",
    "        sn.meta['title'] = \"Synthetic LC\"\n",
    "        sn.meta['f_units'] = \"Jy\"\n",
    "\n",
    "                \n",
    "        #plot_lcs(sd, sn, rd, extra_data=[s_data_ds, syn_full, r_data_ds], highlights=[None, fit_roi, fit_roi], figsize=(10, 10), filename='images/gev_syn_radio.eps')\n",
    "        \n",
    "        _highlight = fit_roi if highlight is None else highlight\n",
    "        _dst_data = rd if dst_data is None else dst_data\n",
    "        \n",
    "        \n",
    "        \n",
    "        def inset_creator(ax):\n",
    "            x = np.linspace(0, 700, 1000)\n",
    "            A, t_rise, t_decay, f_const = 197765.3421157885, 19.24416937907919, 42.883458356259524, 26.973314037084446\n",
    "            delta_t = 255\n",
    "            p = profile_func(x - min(x), *params)\n",
    "            ax.plot(x, p/np.max(p))\n",
    "            ax.set_ylabel(\"$S/S_{max}$\")\n",
    "            ax.set_xlabel('$t$ (d)')\n",
    "\n",
    "        \n",
    "        plot_lcs(s_data, sn, _dst_data, extra_data=extra_data, extra_plot=extra_plot, highlights=[None, _highlight, _highlight, None], extra_color=extra_color, color=color, figsize=(11, 9), ylims=ylims, timerange=plot_timerange, filename=filename, inset_creator=inset_creator, inset_id=1)\n",
    "       \n",
    "        return sd, sn, rd, chi2, dof, _r_t, _r_f, _r_df, _s_t, _s_f, _s_df, syn_full"
   ]
  },
  {
   "cell_type": "markdown",
   "metadata": {
    "lines_to_next_cell": 2
   },
   "source": [
    "### Define fitting configurations"
   ]
  },
  {
   "cell_type": "code",
   "execution_count": 13,
   "metadata": {},
   "outputs": [],
   "source": [
    "mrk501_plot_timerange = [56300, 58226]\n",
    "\n",
    "con_f7d1g = prepare_fit(gev_mrk501, radio_mrk501, bin_size=7, fit_roi=[56800, 58500], noplot=True)\n",
    "\n",
    "con_plot_mrk501 = prepare_fit(gev_mrk501, radio_mrk501, bin_size=7, fit_roi=[56275, 58226], noplot=True)"
   ]
  },
  {
   "cell_type": "markdown",
   "metadata": {},
   "source": [
    "### Perform fitting"
   ]
  },
  {
   "cell_type": "code",
   "execution_count": null,
   "metadata": {},
   "outputs": [],
   "source": []
  },
  {
   "cell_type": "code",
   "execution_count": null,
   "metadata": {},
   "outputs": [],
   "source": []
  },
  {
   "cell_type": "code",
   "execution_count": null,
   "metadata": {},
   "outputs": [],
   "source": []
  },
  {
   "cell_type": "code",
   "execution_count": null,
   "metadata": {},
   "outputs": [],
   "source": []
  },
  {
   "cell_type": "code",
   "execution_count": null,
   "metadata": {},
   "outputs": [],
   "source": []
  },
  {
   "cell_type": "markdown",
   "metadata": {},
   "source": [
    "### Plot resulting LCs"
   ]
  },
  {
   "cell_type": "code",
   "execution_count": 14,
   "metadata": {},
   "outputs": [
    {
     "name": "stdout",
     "output_type": "stream",
     "text": [
      "224\n",
      "chi2/dof = 435.9698803350107/149 = 2.9259723512416826, params = [1665799.898661404, 3.355918705118255, 66.5926745199267, 224, 0.9151354379043237], t_shift=224\n",
      "Mrk 501 using UL\n"
     ]
    },
    {
     "name": "stderr",
     "output_type": "stream",
     "text": [
      "The PostScript backend does not support transparency; partially transparent artists will be rendered opaque.\n",
      "The PostScript backend does not support transparency; partially transparent artists will be rendered opaque.\n",
      "The PostScript backend does not support transparency; partially transparent artists will be rendered opaque.\n",
      "The PostScript backend does not support transparency; partially transparent artists will be rendered opaque.\n"
     ]
    },
    {
     "data": {
      "image/png": "[encoded data removed]",
      "text/plain": [
       "<Figure size 792x648 with 5 Axes>"
      ]
     },
     "metadata": {
      "needs_background": "light"
     },
     "output_type": "display_data"
    }
   ],
   "source": [
    "t = 224\n",
    "x = [1665799.898661404, 3.355918705118255, 66.5926745199267, 0.9151354379043237]\n",
    "print(t)\n",
    "ylims = [[0, 0.45E-7], [0.93, 1.35], [0.93, 1.35], [None, None]]\n",
    "result = get_fit(x, con_plot_mrk501, profile_st, t, True, extra_data=[gev_mrk501, None, None], plot_data=True, ylims=ylims, all_uncertainties=True, highlight=[56800, 58226], dst_data=radio_mrk501_orig, plot_timerange=mrk501_plot_timerange, color='#1f77b4', filename='images/gev_syn_radio_mrk501.eps')"
   ]
  },
  {
   "cell_type": "markdown",
   "metadata": {},
   "source": [
    "### Estimate parameters uncertainties"
   ]
  },
  {
   "cell_type": "code",
   "execution_count": 15,
   "metadata": {
    "lines_to_next_cell": 0
   },
   "outputs": [
    {
     "name": "stdout",
     "output_type": "stream",
     "text": [
      "224 -12.668668668668658 +3.0270270270270316 || 211.33133133133134 & 227.02702702702703\n",
      "1665799.898661404 -29180.678905480076 +49190.287297809264 || 1636619.2197559238 & 1714990.1859592132\n",
      "3.355918705118255 -1.6779593525591274 +1.6779593525591276 || 1.6779593525591274 & 5.0338780576773825\n",
      "66.5926745199267 -1.4331756778562834 +1.5664943455638394 || 65.15949884207042 & 68.15916886549054\n",
      "0.9151354379043237 -0.0041222317022717725 +0.0041222317022717725 || 0.911013206202052 & 0.9192576696065955\n"
     ]
    }
   ],
   "source": [
    "#\n",
    "# threshold 5.9 from https://homepage.divms.uiowa.edu/~mbognar/applets/chisq.html, dof=5, P(X<x)=0.68\n",
    "#\n",
    "params = [224, 1665799.898661404, 3.355918705118255, 66.5926745199267, 0.9151354379043237]\n",
    "x0, dof = get_fit(params[1:], con_f7d1g, profile_st, params[0], True, all_uncertainties=True, get_dof=True)\n",
    "\n",
    "for _p in range(len(params)):\n",
    "    params1 = [i for i in params]\n",
    "    res = []\n",
    "    ps = []\n",
    "    for p in np.linspace(0.5 * params[_p], 1.5 * params[_p], 1000):\n",
    "        params1[_p] = p\n",
    "        x1 = get_fit(params1[1:], con_f7d1g, profile_st, params1[0], True, all_uncertainties=True)\n",
    "        res.append(np.abs(np.abs(x1 - x0) * dof - 5.9))\n",
    "        ps.append(p)\n",
    "    res = np.array(res)\n",
    "    ps = np.array(ps)\n",
    "    par = params[_p]\n",
    "    m1 = ps[ps <= par][np.argmin(res[ps <= par])]\n",
    "    m2 = ps[ps >= par][np.argmin(res[ps >= par])]\n",
    "    print(f\"{par} -{par - m1} +{m2 - par} || {m1} & {m2}\")\n",
    "    #plt.plot(ps, res, '-')\n",
    "    #plt.ylim([0, 5.9])\n",
    "    #plt.show()"
   ]
  }
 ],
 "metadata": {
  "jupytext": {
   "text_representation": {
    "extension": ".py",
    "format_name": "light",
    "format_version": "1.5",
    "jupytext_version": "1.6.0"
   }
  },
  "kernelspec": {
   "display_name": "Python 3",
   "language": "python",
   "name": "python3"
  },
  "language_info": {
   "codemirror_mode": {
    "name": "ipython",
    "version": 3
   },
   "file_extension": ".py",
   "mimetype": "text/x-python",
   "name": "python",
   "nbconvert_exporter": "python",
   "pygments_lexer": "ipython3",
   "version": "3.8.3"
  }
 },
 "nbformat": 4,
 "nbformat_minor": 4
}
