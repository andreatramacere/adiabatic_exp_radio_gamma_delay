{
 "cells": [
  {
   "cell_type": "code",
   "execution_count": 1,
   "metadata": {},
   "outputs": [],
   "source": [
    "%load_ext autoreload\n",
    "%autoreload 2\n",
    "\n",
    "from IPython.display import clear_output"
   ]
  },
  {
   "cell_type": "code",
   "execution_count": 2,
   "metadata": {},
   "outputs": [],
   "source": [
    "%reload_ext autoreload\n",
    "\n",
    "import warnings\n",
    "warnings.filterwarnings(\"ignore\")"
   ]
  },
  {
   "cell_type": "code",
   "execution_count": 3,
   "metadata": {},
   "outputs": [],
   "source": [
    "import numpy as np\n",
    "import scipy"
   ]
  },
  {
   "cell_type": "code",
   "execution_count": 4,
   "metadata": {},
   "outputs": [],
   "source": [
    "from libs.plotting import plot_lcs\n",
    "from astropy.table import Table"
   ]
  },
  {
   "cell_type": "markdown",
   "metadata": {},
   "source": [
    "### Load data"
   ]
  },
  {
   "cell_type": "code",
   "execution_count": 5,
   "metadata": {},
   "outputs": [],
   "source": [
    "from dataset import radio_mrk501, gev_mrk501, coincidence_mask_mrk501\n",
    "\n",
    "from dataset import radio_mrk501_orig\n",
    "\n",
    "from dataset import coincidence_checker\n",
    "import matplotlib.pyplot as plt"
   ]
  },
  {
   "cell_type": "markdown",
   "metadata": {},
   "source": [
    "### Define response profile and convolution routine"
   ]
  },
  {
   "cell_type": "code",
   "execution_count": 6,
   "metadata": {},
   "outputs": [],
   "source": [
    "def profile_st(x, Amp, t_rise, t_fall, t_shift):\n",
    "    t = x - t_shift\n",
    "    return Amp * np.exp(-t/t_fall) / (1 + np.exp(-t/t_rise))\n",
    "\n",
    "def convolve_arrays_sigma(v1, v2, dv1):\n",
    "    v1, v2, dv1 = np.array(v1), np.array(v2), np.array(dv1)\n",
    "    r = np.convolve(v1, v2)\n",
    "    dr2 = np.convolve(dv1 ** 2, v2 ** 2)\n",
    "    return r, np.sqrt(dr2)"
   ]
  },
  {
   "cell_type": "markdown",
   "metadata": {},
   "source": [
    "### Define fit configuration and fitting routines"
   ]
  },
  {
   "cell_type": "code",
   "execution_count": 7,
   "metadata": {
    "lines_to_next_cell": 0
   },
   "outputs": [],
   "source": [
    "def prepare_fit(s_data_ds, r_data_ds, bin_size, fit_roi, time_start=None, noplot=False):\n",
    "    s_data = s_data_ds\n",
    "    r_data = r_data_ds\n",
    "    \n",
    "    s_m, r_m = coincidence_checker(s_data, r_data, bin_size=bin_size)\n",
    "    \n",
    "    sd = Table({i:s_data_ds[i][s_m] for i in s_data_ds.columns})\n",
    "    sd.meta = s_data_ds.meta\n",
    "    for c in s_data_ds.columns:\n",
    "        sd[c].unit = s_data_ds[c].unit\n",
    "    \n",
    "    rd = Table({i:r_data_ds[i][r_m] for i in r_data_ds.columns})\n",
    "    rd.meta = r_data_ds.meta\n",
    "    for c in r_data_ds.columns:\n",
    "        rd[c].unit = r_data_ds[c].unit\n",
    "    \n",
    "    if not noplot:\n",
    "        plot_lcs(sd, rd, extra_data=[s_data_ds, r_data_ds], highlights=[None, fit_roi], figsize=(10, 6))\n",
    "    return s_data, r_data, s_m, r_m, bin_size, fit_roi, s_data_ds, r_data_ds, sd, rd\n",
    "\n",
    "\n",
    "def get_fit(params, \n",
    "            configuration, \n",
    "            profile_func, \n",
    "            t_shift=None, \n",
    "            const_flux_present=False, \n",
    "            all_uncertainties=False, \n",
    "            exclude_roi=[], \n",
    "            plot_data=False, \n",
    "            curvefit=False, \n",
    "            syn_delay=0, \n",
    "            result=False,  \n",
    "            ylims=None, \n",
    "            start_time=None, \n",
    "            highlight=None,\n",
    "            plot_timerange=None,\n",
    "            dst_data=None, \n",
    "            color='black',\n",
    "            extra_data=None,\n",
    "            extra_color='#1f77b4', #'#11265b',\n",
    "            filename='tmp.png',\n",
    "            flare_tuning = None,\n",
    "            background=None,\n",
    "            extra_plot=None,\n",
    "            get_dof = False,\n",
    "            plot_flares=False\n",
    "           ):\n",
    "    s_data, r_data, s_m, r_m, bin_size, fit_roi, s_data_ds, r_data_ds, sd, rd = configuration\n",
    "    s_t, s_f, s_df = s_data['tc'], s_data['f'], s_data['df']\n",
    "    r_t, r_f, r_df = r_data['tc'], r_data['f'], r_data['df']\n",
    "    \n",
    "    const_flux = 0\n",
    "    if const_flux_present:\n",
    "        const_flux = params[-1]\n",
    "        params = params[:-1]        \n",
    "    if t_shift is not None:\n",
    "        params = [*params] + [t_shift]\n",
    "    prof = profile_func(s_t - min(s_t), *params)\n",
    "    _params = [i for i in params]\n",
    "    A0 = params[0]\n",
    "    syn_t = s_t\n",
    "    syn_f = np.zeros_like(s_f)\n",
    "    syn_df = np.zeros_like(s_df)\n",
    "    if flare_tuning is None:\n",
    "        syn = convolve_arrays_sigma(s_f.copy(), prof, s_df)\n",
    "        syn_f = syn[0][:len(s_f)] + const_flux\n",
    "        syn_df = syn[1][:len(s_f)]\n",
    "    else:\n",
    "        fig = None\n",
    "        if plot_flares:\n",
    "            fig = plt.figure(figsize=(15,5))\n",
    "        for f in flare_tuning:\n",
    "            _time_range, amplitude = f\n",
    "            _tmp_s_f = np.zeros_like(s_f)\n",
    "            _tmp_s_df = np.zeros_like(s_df)\n",
    "            m = np.logical_and(syn_t > _time_range[0], syn_t <= _time_range[1])\n",
    "            _tmp_s_f[m] = s_f.copy()[m]\n",
    "            _tmp_s_df[m] = s_df.copy()[m]\n",
    "            _params[0] = A0 * amplitude\n",
    "            prof = profile_func(s_t - min(s_t), *_params)\n",
    "            syn = convolve_arrays_sigma(_tmp_s_f, prof, _tmp_s_df)\n",
    "            syn_f += syn[0][:len(s_f)]\n",
    "            syn_df += syn[1][:len(s_f)]**2\n",
    "            if plot_flares:\n",
    "                plt.plot(s_t, syn[0][:len(s_f)] + const_flux, '.', label=\"%s\" % _time_range)\n",
    "        syn_t = s_t   \n",
    "        if background is not None:\n",
    "            syn_f += background(s_t, const_flux)\n",
    "        else:\n",
    "            syn_f += const_flux\n",
    "        syn_df = 0*np.sqrt(syn_df)\n",
    "        if plot_flares:\n",
    "            plt.legend()\n",
    "            plt.show()\n",
    "        \n",
    "    roi_mask = np.logical_and(r_t[r_m] >= fit_roi[0], r_t[r_m] <= fit_roi[1])\n",
    "    \n",
    "    _r_t = r_t[r_m][roi_mask]\n",
    "    _r_f = r_f[r_m][roi_mask]\n",
    "    _r_df = r_df[r_m][roi_mask]\n",
    "    \n",
    "    _s_t = syn_t[s_m][roi_mask]\n",
    "    _s_f = syn_f[s_m][roi_mask]\n",
    "    _s_df = syn_df[s_m][roi_mask]\n",
    "    \n",
    "    if curvefit:\n",
    "        return np.column_stack([_r_t, _r_f, _r_df]), np.column_stack([_s_t, _s_f, _s_df])\n",
    "    \n",
    "    delta = _r_df\n",
    "    if all_uncertainties:\n",
    "        delta = np.sqrt(_r_df**2 + _s_df**2)\n",
    "    \n",
    "    xi = ((_s_f - _r_f)/delta)**2\n",
    "    xi_t = _s_t\n",
    "    for p in exclude_roi:\n",
    "        m = np.logical_and(xi_t >= p[0], xi_t <= p[1])\n",
    "        xi = xi[~m]\n",
    "        xi_t = xi_t[~m]\n",
    "    \n",
    "    dof = len(xi) - len(params) - (1 if const_flux_present else 0)\n",
    "    chi2 = np.sum(xi)\n",
    "    \n",
    "    if get_dof:\n",
    "        return chi2/dof, dof\n",
    "        \n",
    "    if not plot_data:\n",
    "        #clear_output(wait=True)\n",
    "        #display(\"chi2 = %s (%s), params = %s, delta_t = %s\" % (chi2, len(xi), np.array(params), t_shift))\n",
    "        return chi2/dof\n",
    "    else:\n",
    "        p = [i for i in params]\n",
    "        if const_flux_present:\n",
    "            p += [const_flux]\n",
    "            \n",
    "        print(\"chi2/dof = %s/%s = %s, params = %s, t_shift=%s\" % (chi2, dof, chi2/dof, str(p), t_shift))\n",
    "    \n",
    "\n",
    "        syn_full = Table({'tc' : syn_t + syn_delay, 'f' : syn_f, 'df' : syn_df})\n",
    "        syn_full.meta['title'] = \"Synthetic LC\"\n",
    "        syn_full.meta['f_units'] = \"Jy\"\n",
    "\n",
    "        sn = Table({'tc' : _s_t + syn_delay, 'f' : _s_f, 'df' : _s_df})\n",
    "        sn.meta['title'] = \"Synthetic LC\"\n",
    "        sn.meta['f_units'] = \"Jy\"\n",
    "\n",
    "                \n",
    "        #plot_lcs(sd, sn, rd, extra_data=[s_data_ds, syn_full, r_data_ds], highlights=[None, fit_roi, fit_roi], figsize=(10, 10), filename='images/gev_syn_radio.eps')\n",
    "        \n",
    "        _highlight = fit_roi if highlight is None else highlight\n",
    "        _dst_data = rd if dst_data is None else dst_data\n",
    "        \n",
    "        \n",
    "        \n",
    "        def inset_creator(ax):\n",
    "            x = np.linspace(0, 700, 1000)\n",
    "            A, t_rise, t_decay, f_const = 197765.3421157885, 19.24416937907919, 42.883458356259524, 26.973314037084446\n",
    "            delta_t = 255\n",
    "            p = profile_func(x - min(x), *params)\n",
    "            ax.plot(x, p/np.max(p))\n",
    "            ax.set_ylabel(\"$S/S_{max}$\")\n",
    "            ax.set_xlabel('$t$ (d)')\n",
    "\n",
    "        \n",
    "        plot_lcs(s_data, sn, _dst_data, extra_data=extra_data, extra_plot=extra_plot, highlights=[None, _highlight, _highlight, None], extra_color=extra_color, color=color, figsize=(11, 9), ylims=ylims, timerange=plot_timerange, filename=filename, inset_creator=inset_creator, inset_id=1)\n",
    "       \n",
    "        return sd, sn, rd, chi2, dof, _r_t, _r_f, _r_df, _s_t, _s_f, _s_df, syn_full"
   ]
  },
  {
   "cell_type": "markdown",
   "metadata": {
    "lines_to_next_cell": 2
   },
   "source": [
    "### Define fitting configurations"
   ]
  },
  {
   "cell_type": "code",
   "execution_count": 8,
   "metadata": {},
   "outputs": [],
   "source": [
    "mrk501_plot_timerange = [56300, 58226]\n",
    "\n",
    "con_f7d1g = prepare_fit(gev_mrk501, radio_mrk501, bin_size=7, fit_roi=[56800, 58500], noplot=True)\n",
    "\n",
    "con_plot_mrk501 = prepare_fit(gev_mrk501, radio_mrk501, bin_size=7, fit_roi=[56275, 58226], noplot=True)"
   ]
  },
  {
   "cell_type": "markdown",
   "metadata": {},
   "source": [
    "### Perform fitting"
   ]
  },
  {
   "cell_type": "code",
   "execution_count": 9,
   "metadata": {},
   "outputs": [],
   "source": [
    "from scipy.signal import savgol_filter\n",
    "from scipy import stats\n",
    "from scipy.optimize import curve_fit\n",
    "from scipy.stats import norm\n",
    "from scipy import optimize\n",
    "import matplotlib.pyplot as plt\n",
    "import time"
   ]
  },
  {
   "cell_type": "code",
   "execution_count": 10,
   "metadata": {},
   "outputs": [
    {
     "name": "stdout",
     "output_type": "stream",
     "text": [
      "290 9.376 1665799.898, 5.000, 59.542, 0.929\n",
      "291 9.489 1665799.897, 5.000, 59.518, 0.929\n",
      "292 9.601 1665799.898, 5.000, 59.494, 0.930\n",
      "293 9.714 1665799.898, 5.000, 59.470, 0.930\n",
      "294 9.826 1665799.907, 5.000, 59.448, 0.930\n",
      "295 9.939 1665799.899, 5.000, 59.431, 0.930\n",
      "296 10.053 1665799.898, 5.000, 59.419, 0.930\n",
      "297 10.168 1665799.898, 5.000, 59.415, 0.930\n",
      "298 10.284 1665799.899, 5.000, 59.420, 0.930\n",
      "299 10.402 1665799.899, 5.000, 59.434, 0.930\n"
     ]
    }
   ],
   "source": [
    "bounds = [\n",
    "    [1e-12, 1e12],  # Amp\n",
    "    [0.01, 5],      # t_rise, due to high noise we need to limit upper value otherwise the flat line is produced\n",
    "    [1, 1e12],      # t_fall\n",
    "    [1e-12, 1e12],  # const_flux\n",
    "]\n",
    "methods = [\"Nelder-Mead\", \"Powell\", \"CG\", \"BFGS\"]\n",
    "b_methods = [\"L-BFGS-B\", \"TNC\", \"COBYLA\", \"SLSQP\", \"trust-constr\",]\n",
    "\n",
    "res_7d = []\n",
    "counter = 0\n",
    "for r in np.arange(200, 300, 1):\n",
    "    _v = optimize.minimize(\n",
    "                              get_fit, \n",
    "                              #Amp, t_rise, t_fall, rho, phi, t_shift\n",
    "                              #[3165694.19691723, 160.65039648429547, 3.313645265275364, 0.9201717829718753],\n",
    "                              [1665799.8986599653, 1.0, 68.05124663769445, 0.9118161970748102],\n",
    "                              args = (con_f7d1g, profile_st, r, True, False), #configuration, profile_function, \n",
    "                                                                          #t_rise time, is_const_flux_present, all_uncertainties\n",
    "                              method=b_methods[4], bounds=bounds,\n",
    "                              #method=methods[0],\n",
    "                              options={'disp': False, 'maxiter': 10000, 'xtol': 1e-09}\n",
    "                            )\n",
    "    if counter % 10 == 0:\n",
    "        clear_output(wait=True)\n",
    "    counter+=1\n",
    "    print(r, \"%.3f\" % _v.fun, \", \".join([\"%.3f\" % i for i in _v.x]))\n",
    "    res_7d.append([r, _v])"
   ]
  },
  {
   "cell_type": "code",
   "execution_count": 14,
   "metadata": {},
   "outputs": [
    {
     "data": {
      "image/png": "[encoded data removed]",
      "text/plain": [
       "<Figure size 432x288 with 1 Axes>"
      ]
     },
     "metadata": {
      "needs_background": "light"
     },
     "output_type": "display_data"
    },
    {
     "name": "stdout",
     "output_type": "stream",
     "text": [
      "items:  8\n",
      "224.00 [1665799.8986600204, 3.3555956711549615, 66.5928249149176, 0.9151354888058337] 2.2995331313186\n",
      "225.00 [1665799.8986111332, 4.396622027948641, 66.2824775775632, 0.9152813961503586] 2.3263903271572195\n",
      "226.00 [1665799.898734857, 4.9999813090306695, 66.02234594093524, 0.9154425998718015] 2.345350038640489\n",
      "227.00 [1665799.8986749386, 4.999250540308463, 65.86648877234451, 0.9156380605712299] 2.3593781202732216\n",
      "228.00 [1665799.9303899775, 4.999549491716011, 65.70964877750842, 0.9158390835111362] 2.3743325352860616\n",
      "229.00 [1665799.8986901348, 4.999986842206741, 65.55277381008311, 0.9160449434587699] 2.3899909771869785\n",
      "230.00 [1665799.8985103634, 4.999990485306844, 65.39663621529023, 0.916254955870955] 2.4061833341700627\n",
      "231.00 [1665799.9057561343, 4.99999105441831, 65.24179965219167, 0.9164682564175275] 2.4227878954541664\n"
     ]
    },
    {
     "data": {
      "image/png": "[encoded data removed]",
      "text/plain": [
       "<Figure size 720x360 with 1 Axes>"
      ]
     },
     "metadata": {
      "needs_background": "light"
     },
     "output_type": "display_data"
    },
    {
     "name": "stdout",
     "output_type": "stream",
     "text": [
      "Best fit parameters:  [1.66579990e+06 3.35559567e+00 6.65928249e+01 9.15135489e-01]\n",
      "Delta t:  224\n"
     ]
    }
   ],
   "source": [
    "data = res_7d\n",
    "\n",
    "min_chi2dof, max_chi2dof = 5.6, 5.7\n",
    "ts, xs, fun = np.array([i[0] for i in data]), np.array([i[1].x for i in data]), np.array([i[1].fun for i in data])\n",
    "plot_y_limits = [0.9*np.min(fun), 1.1*max_chi2dof]\n",
    "\n",
    "plt.plot(ts, fun, '.')\n",
    "plt.hlines(max_chi2dof, np.min(ts), np.max(ts), color='green', linestyle='dashed')\n",
    "plt.hlines(min_chi2dof, np.min(ts), np.max(ts), color='green', linestyle='solid')\n",
    "plt.ylim(plot_y_limits)\n",
    "plt.xlabel(\"$\\Delta_t$\")\n",
    "plt.ylabel(\"$\\chi^2$\")\n",
    "plt.show()\n",
    "\n",
    "bf_params = xs[fun > min_chi2dof][np.argmin(fun[fun > min_chi2dof])]\n",
    "bf_delta_t = ts[fun > min_chi2dof][np.argmin(fun[fun > min_chi2dof])]\n",
    "\n",
    "m = np.logical_and(fun >= min_chi2dof, fun <= max_chi2dof)\n",
    "xs, ts = xs[m], ts[m]\n",
    "_f = fun[m]\n",
    "print(\"items: \", len(xs))\n",
    "fig = plt.figure(figsize=(10, 5))\n",
    "x = np.linspace(0, 500, 1000)\n",
    "for t, f, v in zip(ts, _f, xs):\n",
    "    #params = list(v) + [t]\n",
    "    #const_flux = 0\n",
    "    #const_flux_present=False\n",
    "    params = list(v[:-1]) + [t]\n",
    "    const_flux = v[-1]\n",
    "    const_flux_present=True\n",
    "    plt.plot(x, profile_st(x, *params) + const_flux, '-')\n",
    "    xi2 = get_fit(v, con_f7d1g, profile_st, t, const_flux_present, all_uncertainties=True)\n",
    "    print(\"%.2f\" % t, list(v), xi2)\n",
    "plt.xlabel(\"t\")\n",
    "plt.ylabel(\"f\")\n",
    "plt.show()\n",
    "\n",
    "print(\"Best fit parameters: \", bf_params)\n",
    "print(\"Delta t: \", bf_delta_t)"
   ]
  },
  {
   "cell_type": "markdown",
   "metadata": {},
   "source": [
    "### Plot resulting LCs"
   ]
  },
  {
   "cell_type": "code",
   "execution_count": 16,
   "metadata": {},
   "outputs": [
    {
     "name": "stdout",
     "output_type": "stream",
     "text": [
      "chi2/dof = 435.9687485448779/149 = 2.9259647553347508, params = [1665799.8986600204, 3.3555956711549615, 66.5928249149176, 224, 0.9151354888058337], t_shift=224\n",
      "Mrk 501 using UL\n"
     ]
    },
    {
     "name": "stderr",
     "output_type": "stream",
     "text": [
      "The PostScript backend does not support transparency; partially transparent artists will be rendered opaque.\n",
      "The PostScript backend does not support transparency; partially transparent artists will be rendered opaque.\n",
      "The PostScript backend does not support transparency; partially transparent artists will be rendered opaque.\n",
      "The PostScript backend does not support transparency; partially transparent artists will be rendered opaque.\n"
     ]
    },
    {
     "data": {
      "image/png": "[encoded data removed]",
      "text/plain": [
       "<Figure size 792x648 with 5 Axes>"
      ]
     },
     "metadata": {
      "needs_background": "light"
     },
     "output_type": "display_data"
    }
   ],
   "source": [
    "t = bf_delta_t # value of 220 seems to be an artifact, since the chi2 dependency is not continuous for that delta_t\n",
    "x = bf_params\n",
    "\n",
    "ylims = [[0, 0.45E-7], [0.93, 1.35], [0.93, 1.35], [None, None]]\n",
    "result = get_fit(x, con_plot_mrk501, profile_st, t, True, extra_data=[gev_mrk501, None, None], plot_data=True, ylims=ylims, all_uncertainties=True, highlight=[56800, 58226], dst_data=radio_mrk501_orig, plot_timerange=mrk501_plot_timerange, color='#1f77b4', filename='images/gev_syn_radio_mrk501.eps')"
   ]
  },
  {
   "cell_type": "markdown",
   "metadata": {},
   "source": [
    "### Estimate parameters uncertainties"
   ]
  },
  {
   "cell_type": "code",
   "execution_count": 17,
   "metadata": {
    "lines_to_next_cell": 0
   },
   "outputs": [
    {
     "name": "stdout",
     "output_type": "stream",
     "text": [
      "224 -12.668668668668658 +3.0270270270270316 || 211.33133133133134 & 227.02702702702703\n",
      "1665799.8986600204 -29180.67890545586 +49190.28729776805 || 1636619.2197545646 & 1714990.1859577885\n",
      "3.3555956711549615 -1.6777978355774807 +1.6777978355774805 || 1.6777978355774807 & 5.033393506732442\n",
      "66.5928249149176 -1.4331789145853122 +1.5664978833839456 || 65.15964600033229 & 68.15932279830155\n",
      "0.9151354888058337 -0.004122231931557807 +0.004122231931557807 || 0.9110132568742759 & 0.9192577207373915\n"
     ]
    }
   ],
   "source": [
    "#\n",
    "# threshold 5.9 from https://homepage.divms.uiowa.edu/~mbognar/applets/chisq.html, dof=5, P(X<x)=0.68\n",
    "#\n",
    "params = list([bf_delta_t]) + list(bf_params)\n",
    "x0, dof = get_fit(params[1:], con_f7d1g, profile_st, params[0], True, all_uncertainties=True, get_dof=True)\n",
    "\n",
    "for _p in range(len(params)):\n",
    "    params1 = [i for i in params]\n",
    "    res = []\n",
    "    ps = []\n",
    "    for p in np.linspace(0.5 * params[_p], 1.5 * params[_p], 1000):\n",
    "        params1[_p] = p\n",
    "        x1 = get_fit(params1[1:], con_f7d1g, profile_st, params1[0], True, all_uncertainties=True)\n",
    "        res.append(np.abs(np.abs(x1 - x0) * dof - 5.9))\n",
    "        ps.append(p)\n",
    "    res = np.array(res)\n",
    "    ps = np.array(ps)\n",
    "    par = params[_p]\n",
    "    m1 = ps[ps <= par][np.argmin(res[ps <= par])]\n",
    "    m2 = ps[ps >= par][np.argmin(res[ps >= par])]\n",
    "    print(f\"{par} -{par - m1} +{m2 - par} || {m1} & {m2}\")"
   ]
  }
 ],
 "metadata": {
  "jupytext": {
   "text_representation": {
    "extension": ".py",
    "format_name": "light",
    "format_version": "1.5",
    "jupytext_version": "1.6.0"
   }
  },
  "kernelspec": {
   "display_name": "Python 3",
   "language": "python",
   "name": "python3"
  },
  "language_info": {
   "codemirror_mode": {
    "name": "ipython",
    "version": 3
   },
   "file_extension": ".py",
   "mimetype": "text/x-python",
   "name": "python",
   "nbconvert_exporter": "python",
   "pygments_lexer": "ipython3",
   "version": "3.8.3"
  }
 },
 "nbformat": 4,
 "nbformat_minor": 4
}
